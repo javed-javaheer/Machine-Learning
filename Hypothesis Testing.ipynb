{
 "cells": [
  {
   "cell_type": "code",
   "execution_count": 4,
   "metadata": {},
   "outputs": [],
   "source": [
    "#Part 1\n",
    "#Samsung Customer Expierence\n",
    "# Hypothesis 1 : Average customer satisfaction score is minimum 75%.\n",
    "# Hypothesis 2 : Overall average satisfaction score of Samsung is same as Apple.\n",
    "# Sample: 100 Samsung customers and 100 Apple"
   ]
  },
  {
   "cell_type": "code",
   "execution_count": 5,
   "metadata": {},
   "outputs": [],
   "source": [
    "## Hypothesis 1\n",
    "# H0 : u >= 75%\n",
    "# H1a : u <75%\n",
    "# CI: 95%\n",
    "# p value: 0.05"
   ]
  },
  {
   "cell_type": "code",
   "execution_count": 6,
   "metadata": {},
   "outputs": [],
   "source": [
    "ss_Samsung=100\n",
    "ss_Apple=100"
   ]
  },
  {
   "cell_type": "code",
   "execution_count": 235,
   "metadata": {},
   "outputs": [],
   "source": [
    "##No data available!"
   ]
  },
  {
   "cell_type": "markdown",
   "metadata": {},
   "source": [
    "## Health Data"
   ]
  },
  {
   "cell_type": "code",
   "execution_count": 12,
   "metadata": {},
   "outputs": [
    {
     "data": {
      "text/html": [
       "<div>\n",
       "<style scoped>\n",
       "    .dataframe tbody tr th:only-of-type {\n",
       "        vertical-align: middle;\n",
       "    }\n",
       "\n",
       "    .dataframe tbody tr th {\n",
       "        vertical-align: top;\n",
       "    }\n",
       "\n",
       "    .dataframe thead th {\n",
       "        text-align: right;\n",
       "    }\n",
       "</style>\n",
       "<table border=\"1\" class=\"dataframe\">\n",
       "  <thead>\n",
       "    <tr style=\"text-align: right;\">\n",
       "      <th></th>\n",
       "      <th>patid</th>\n",
       "      <th>age</th>\n",
       "      <th>gender</th>\n",
       "      <th>tg0</th>\n",
       "      <th>tg1</th>\n",
       "      <th>tg2</th>\n",
       "      <th>tg3</th>\n",
       "      <th>tg4</th>\n",
       "      <th>wgt0</th>\n",
       "      <th>wgt1</th>\n",
       "      <th>wgt2</th>\n",
       "      <th>wgt3</th>\n",
       "      <th>wgt4</th>\n",
       "    </tr>\n",
       "  </thead>\n",
       "  <tbody>\n",
       "    <tr>\n",
       "      <th>0</th>\n",
       "      <td>1</td>\n",
       "      <td>45</td>\n",
       "      <td>Male</td>\n",
       "      <td>180</td>\n",
       "      <td>148</td>\n",
       "      <td>106</td>\n",
       "      <td>113</td>\n",
       "      <td>100</td>\n",
       "      <td>198</td>\n",
       "      <td>196</td>\n",
       "      <td>193</td>\n",
       "      <td>188</td>\n",
       "      <td>192</td>\n",
       "    </tr>\n",
       "    <tr>\n",
       "      <th>1</th>\n",
       "      <td>2</td>\n",
       "      <td>56</td>\n",
       "      <td>Male</td>\n",
       "      <td>139</td>\n",
       "      <td>94</td>\n",
       "      <td>119</td>\n",
       "      <td>75</td>\n",
       "      <td>92</td>\n",
       "      <td>237</td>\n",
       "      <td>233</td>\n",
       "      <td>232</td>\n",
       "      <td>228</td>\n",
       "      <td>225</td>\n",
       "    </tr>\n",
       "    <tr>\n",
       "      <th>2</th>\n",
       "      <td>3</td>\n",
       "      <td>50</td>\n",
       "      <td>Male</td>\n",
       "      <td>152</td>\n",
       "      <td>185</td>\n",
       "      <td>86</td>\n",
       "      <td>149</td>\n",
       "      <td>118</td>\n",
       "      <td>233</td>\n",
       "      <td>231</td>\n",
       "      <td>229</td>\n",
       "      <td>228</td>\n",
       "      <td>226</td>\n",
       "    </tr>\n",
       "    <tr>\n",
       "      <th>3</th>\n",
       "      <td>4</td>\n",
       "      <td>46</td>\n",
       "      <td>Female</td>\n",
       "      <td>112</td>\n",
       "      <td>145</td>\n",
       "      <td>136</td>\n",
       "      <td>149</td>\n",
       "      <td>82</td>\n",
       "      <td>179</td>\n",
       "      <td>181</td>\n",
       "      <td>177</td>\n",
       "      <td>174</td>\n",
       "      <td>172</td>\n",
       "    </tr>\n",
       "    <tr>\n",
       "      <th>4</th>\n",
       "      <td>5</td>\n",
       "      <td>64</td>\n",
       "      <td>Male</td>\n",
       "      <td>156</td>\n",
       "      <td>104</td>\n",
       "      <td>157</td>\n",
       "      <td>79</td>\n",
       "      <td>97</td>\n",
       "      <td>219</td>\n",
       "      <td>217</td>\n",
       "      <td>215</td>\n",
       "      <td>213</td>\n",
       "      <td>214</td>\n",
       "    </tr>\n",
       "    <tr>\n",
       "      <th>5</th>\n",
       "      <td>6</td>\n",
       "      <td>49</td>\n",
       "      <td>Female</td>\n",
       "      <td>167</td>\n",
       "      <td>138</td>\n",
       "      <td>88</td>\n",
       "      <td>107</td>\n",
       "      <td>171</td>\n",
       "      <td>169</td>\n",
       "      <td>166</td>\n",
       "      <td>165</td>\n",
       "      <td>162</td>\n",
       "      <td>161</td>\n",
       "    </tr>\n",
       "    <tr>\n",
       "      <th>6</th>\n",
       "      <td>7</td>\n",
       "      <td>63</td>\n",
       "      <td>Male</td>\n",
       "      <td>138</td>\n",
       "      <td>132</td>\n",
       "      <td>146</td>\n",
       "      <td>143</td>\n",
       "      <td>132</td>\n",
       "      <td>222</td>\n",
       "      <td>219</td>\n",
       "      <td>215</td>\n",
       "      <td>215</td>\n",
       "      <td>210</td>\n",
       "    </tr>\n",
       "    <tr>\n",
       "      <th>7</th>\n",
       "      <td>8</td>\n",
       "      <td>63</td>\n",
       "      <td>Female</td>\n",
       "      <td>160</td>\n",
       "      <td>128</td>\n",
       "      <td>150</td>\n",
       "      <td>118</td>\n",
       "      <td>123</td>\n",
       "      <td>167</td>\n",
       "      <td>167</td>\n",
       "      <td>166</td>\n",
       "      <td>162</td>\n",
       "      <td>161</td>\n",
       "    </tr>\n",
       "    <tr>\n",
       "      <th>8</th>\n",
       "      <td>9</td>\n",
       "      <td>52</td>\n",
       "      <td>Male</td>\n",
       "      <td>107</td>\n",
       "      <td>120</td>\n",
       "      <td>129</td>\n",
       "      <td>195</td>\n",
       "      <td>174</td>\n",
       "      <td>199</td>\n",
       "      <td>200</td>\n",
       "      <td>196</td>\n",
       "      <td>196</td>\n",
       "      <td>193</td>\n",
       "    </tr>\n",
       "    <tr>\n",
       "      <th>9</th>\n",
       "      <td>10</td>\n",
       "      <td>45</td>\n",
       "      <td>Male</td>\n",
       "      <td>156</td>\n",
       "      <td>103</td>\n",
       "      <td>126</td>\n",
       "      <td>135</td>\n",
       "      <td>92</td>\n",
       "      <td>233</td>\n",
       "      <td>229</td>\n",
       "      <td>229</td>\n",
       "      <td>229</td>\n",
       "      <td>226</td>\n",
       "    </tr>\n",
       "    <tr>\n",
       "      <th>10</th>\n",
       "      <td>11</td>\n",
       "      <td>61</td>\n",
       "      <td>Female</td>\n",
       "      <td>94</td>\n",
       "      <td>144</td>\n",
       "      <td>114</td>\n",
       "      <td>114</td>\n",
       "      <td>121</td>\n",
       "      <td>179</td>\n",
       "      <td>181</td>\n",
       "      <td>176</td>\n",
       "      <td>173</td>\n",
       "      <td>173</td>\n",
       "    </tr>\n",
       "    <tr>\n",
       "      <th>11</th>\n",
       "      <td>12</td>\n",
       "      <td>49</td>\n",
       "      <td>Female</td>\n",
       "      <td>107</td>\n",
       "      <td>93</td>\n",
       "      <td>156</td>\n",
       "      <td>148</td>\n",
       "      <td>150</td>\n",
       "      <td>158</td>\n",
       "      <td>153</td>\n",
       "      <td>155</td>\n",
       "      <td>155</td>\n",
       "      <td>154</td>\n",
       "    </tr>\n",
       "    <tr>\n",
       "      <th>12</th>\n",
       "      <td>13</td>\n",
       "      <td>61</td>\n",
       "      <td>Female</td>\n",
       "      <td>145</td>\n",
       "      <td>107</td>\n",
       "      <td>129</td>\n",
       "      <td>86</td>\n",
       "      <td>159</td>\n",
       "      <td>157</td>\n",
       "      <td>151</td>\n",
       "      <td>150</td>\n",
       "      <td>145</td>\n",
       "      <td>143</td>\n",
       "    </tr>\n",
       "    <tr>\n",
       "      <th>13</th>\n",
       "      <td>14</td>\n",
       "      <td>59</td>\n",
       "      <td>Male</td>\n",
       "      <td>186</td>\n",
       "      <td>142</td>\n",
       "      <td>128</td>\n",
       "      <td>122</td>\n",
       "      <td>101</td>\n",
       "      <td>216</td>\n",
       "      <td>213</td>\n",
       "      <td>210</td>\n",
       "      <td>210</td>\n",
       "      <td>206</td>\n",
       "    </tr>\n",
       "    <tr>\n",
       "      <th>14</th>\n",
       "      <td>15</td>\n",
       "      <td>52</td>\n",
       "      <td>Male</td>\n",
       "      <td>112</td>\n",
       "      <td>107</td>\n",
       "      <td>103</td>\n",
       "      <td>89</td>\n",
       "      <td>148</td>\n",
       "      <td>257</td>\n",
       "      <td>255</td>\n",
       "      <td>254</td>\n",
       "      <td>252</td>\n",
       "      <td>249</td>\n",
       "    </tr>\n",
       "    <tr>\n",
       "      <th>15</th>\n",
       "      <td>16</td>\n",
       "      <td>60</td>\n",
       "      <td>Female</td>\n",
       "      <td>104</td>\n",
       "      <td>103</td>\n",
       "      <td>117</td>\n",
       "      <td>79</td>\n",
       "      <td>130</td>\n",
       "      <td>151</td>\n",
       "      <td>146</td>\n",
       "      <td>144</td>\n",
       "      <td>144</td>\n",
       "      <td>140</td>\n",
       "    </tr>\n",
       "  </tbody>\n",
       "</table>\n",
       "</div>"
      ],
      "text/plain": [
       "    patid  age  gender  tg0  tg1  tg2  tg3  tg4  wgt0  wgt1  wgt2  wgt3  wgt4\n",
       "0       1   45    Male  180  148  106  113  100   198   196   193   188   192\n",
       "1       2   56    Male  139   94  119   75   92   237   233   232   228   225\n",
       "2       3   50    Male  152  185   86  149  118   233   231   229   228   226\n",
       "3       4   46  Female  112  145  136  149   82   179   181   177   174   172\n",
       "4       5   64    Male  156  104  157   79   97   219   217   215   213   214\n",
       "5       6   49  Female  167  138   88  107  171   169   166   165   162   161\n",
       "6       7   63    Male  138  132  146  143  132   222   219   215   215   210\n",
       "7       8   63  Female  160  128  150  118  123   167   167   166   162   161\n",
       "8       9   52    Male  107  120  129  195  174   199   200   196   196   193\n",
       "9      10   45    Male  156  103  126  135   92   233   229   229   229   226\n",
       "10     11   61  Female   94  144  114  114  121   179   181   176   173   173\n",
       "11     12   49  Female  107   93  156  148  150   158   153   155   155   154\n",
       "12     13   61  Female  145  107  129   86  159   157   151   150   145   143\n",
       "13     14   59    Male  186  142  128  122  101   216   213   210   210   206\n",
       "14     15   52    Male  112  107  103   89  148   257   255   254   252   249\n",
       "15     16   60  Female  104  103  117   79  130   151   146   144   144   140"
      ]
     },
     "execution_count": 12,
     "metadata": {},
     "output_type": "execute_result"
    }
   ],
   "source": [
    "import pandas as pd\n",
    "import scipy.stats as stats\n",
    "from statsmodels.stats.weightstats import ztest\n",
    "\n",
    "health_data=pd.read_csv(\"dietstudy.csv\")\n",
    "\n",
    "health_data"
   ]
  },
  {
   "cell_type": "code",
   "execution_count": 34,
   "metadata": {},
   "outputs": [
    {
     "name": "stdout",
     "output_type": "stream",
     "text": [
      "Avg. TG level Before 138.44\n",
      "Avg. TG level After 124.38\n"
     ]
    }
   ],
   "source": [
    "print(\"Avg. TG level Before\",round(health_data.tg0.mean(),2))\n",
    "print(\"Avg. TG level After\",round(health_data.tg4.mean(),2))"
   ]
  },
  {
   "cell_type": "code",
   "execution_count": 68,
   "metadata": {},
   "outputs": [
    {
     "name": "stdout",
     "output_type": "stream",
     "text": [
      "P value= 0.24874946576903698\n"
     ]
    }
   ],
   "source": [
    "# Relational t- test\n",
    "# Ho : mean TG is same, i.e. u_before-u_after=0 \n",
    "# Ha : mean TG is decreased, i.e. u_before-u_after >0 \n",
    "# CI =95%, pvalue: 0.05\n",
    "\n",
    "# perform the test\n",
    "\n",
    "s1,p1=stats.ttest_rel(health_data.tg0,health_data.tg4)\n",
    "print(\"P value=\",p1)"
   ]
  },
  {
   "cell_type": "code",
   "execution_count": 69,
   "metadata": {},
   "outputs": [
    {
     "name": "stdout",
     "output_type": "stream",
     "text": [
      "Business Conclusion:\n",
      "\tH0 NOT rejected\n",
      "\tThere is no significant difference in TG levles after the diet\n"
     ]
    }
   ],
   "source": [
    "if p1 < 0.05:\n",
    "    print(\"Business Conclusion:\\n\\tH0 rejected\\n\\tThere is decrease in TG levles after the diet\") \n",
    "    \n",
    "else:\n",
    "     print(\"Business Conclusion:\\n\\tH0 NOT rejected\\n\\tThere is no significant difference in TG levles after the diet\") \n",
    "   "
   ]
  },
  {
   "cell_type": "code",
   "execution_count": 70,
   "metadata": {},
   "outputs": [
    {
     "name": "stdout",
     "output_type": "stream",
     "text": [
      "Avg. Weight Before 198.38\n",
      "Avg. Weight After 190.31\n"
     ]
    }
   ],
   "source": [
    "print(\"Avg. Weight Before\",round(health_data.wgt0.mean(),2))\n",
    "print(\"Avg. Weight After\",round(health_data.wgt4.mean(),2))"
   ]
  },
  {
   "cell_type": "code",
   "execution_count": 14,
   "metadata": {},
   "outputs": [
    {
     "name": "stdout",
     "output_type": "stream",
     "text": [
      "P value= 1.137689414996614e-08\n"
     ]
    }
   ],
   "source": [
    "# Relational t- test\n",
    "# Ho : mean Weight is same, i.e. u_before-u_after=0 \n",
    "# Ha : mean weight is decreased, i.e. u_before-u_after >0 \n",
    "# CI =95%, pvalue: 0.05\n",
    "\n",
    "# perform the test\n",
    "\n",
    "s2,p2=stats.ttest_rel(health_data.wgt0,health_data.wgt4)\n",
    "print(\"P value=\",p2)"
   ]
  },
  {
   "cell_type": "code",
   "execution_count": 15,
   "metadata": {},
   "outputs": [
    {
     "name": "stdout",
     "output_type": "stream",
     "text": [
      "Business Conclusion:\n",
      "\tH0 rejected\n",
      "\tThere is decrease in Weight after the diet\n"
     ]
    }
   ],
   "source": [
    "if p2 < 0.05:\n",
    "    print(\"Business Conclusion:\\n\\tH0 rejected\\n\\tThere is decrease in Weight after the diet\") \n",
    "    \n",
    "else:\n",
    "     print(\"Business Conclusion:\\n\\tH0 NOT rejected\\n\\tThere is no significant difference in Weight after the diet\")"
   ]
  },
  {
   "cell_type": "markdown",
   "metadata": {},
   "source": [
    "### Credit card promotion"
   ]
  },
  {
   "cell_type": "code",
   "execution_count": 16,
   "metadata": {},
   "outputs": [
    {
     "data": {
      "text/html": [
       "<div>\n",
       "<style scoped>\n",
       "    .dataframe tbody tr th:only-of-type {\n",
       "        vertical-align: middle;\n",
       "    }\n",
       "\n",
       "    .dataframe tbody tr th {\n",
       "        vertical-align: top;\n",
       "    }\n",
       "\n",
       "    .dataframe thead th {\n",
       "        text-align: right;\n",
       "    }\n",
       "</style>\n",
       "<table border=\"1\" class=\"dataframe\">\n",
       "  <thead>\n",
       "    <tr style=\"text-align: right;\">\n",
       "      <th></th>\n",
       "      <th>id</th>\n",
       "      <th>insert</th>\n",
       "      <th>dollars</th>\n",
       "    </tr>\n",
       "  </thead>\n",
       "  <tbody>\n",
       "    <tr>\n",
       "      <th>0</th>\n",
       "      <td>148</td>\n",
       "      <td>Standard</td>\n",
       "      <td>2232.771979</td>\n",
       "    </tr>\n",
       "    <tr>\n",
       "      <th>1</th>\n",
       "      <td>572</td>\n",
       "      <td>New Promotion</td>\n",
       "      <td>1403.807542</td>\n",
       "    </tr>\n",
       "    <tr>\n",
       "      <th>2</th>\n",
       "      <td>973</td>\n",
       "      <td>Standard</td>\n",
       "      <td>2327.092181</td>\n",
       "    </tr>\n",
       "    <tr>\n",
       "      <th>3</th>\n",
       "      <td>1096</td>\n",
       "      <td>Standard</td>\n",
       "      <td>1280.030541</td>\n",
       "    </tr>\n",
       "    <tr>\n",
       "      <th>4</th>\n",
       "      <td>1541</td>\n",
       "      <td>New Promotion</td>\n",
       "      <td>1513.563200</td>\n",
       "    </tr>\n",
       "    <tr>\n",
       "      <th>...</th>\n",
       "      <td>...</td>\n",
       "      <td>...</td>\n",
       "      <td>...</td>\n",
       "    </tr>\n",
       "    <tr>\n",
       "      <th>495</th>\n",
       "      <td>130163</td>\n",
       "      <td>New Promotion</td>\n",
       "      <td>1513.060134</td>\n",
       "    </tr>\n",
       "    <tr>\n",
       "      <th>496</th>\n",
       "      <td>130204</td>\n",
       "      <td>New Promotion</td>\n",
       "      <td>1020.757943</td>\n",
       "    </tr>\n",
       "    <tr>\n",
       "      <th>497</th>\n",
       "      <td>130255</td>\n",
       "      <td>Standard</td>\n",
       "      <td>1919.856304</td>\n",
       "    </tr>\n",
       "    <tr>\n",
       "      <th>498</th>\n",
       "      <td>130583</td>\n",
       "      <td>Standard</td>\n",
       "      <td>1863.014814</td>\n",
       "    </tr>\n",
       "    <tr>\n",
       "      <th>499</th>\n",
       "      <td>130682</td>\n",
       "      <td>Standard</td>\n",
       "      <td>1295.012183</td>\n",
       "    </tr>\n",
       "  </tbody>\n",
       "</table>\n",
       "<p>500 rows × 3 columns</p>\n",
       "</div>"
      ],
      "text/plain": [
       "         id         insert      dollars\n",
       "0       148       Standard  2232.771979\n",
       "1       572  New Promotion  1403.807542\n",
       "2       973       Standard  2327.092181\n",
       "3      1096       Standard  1280.030541\n",
       "4      1541  New Promotion  1513.563200\n",
       "..      ...            ...          ...\n",
       "495  130163  New Promotion  1513.060134\n",
       "496  130204  New Promotion  1020.757943\n",
       "497  130255       Standard  1919.856304\n",
       "498  130583       Standard  1863.014814\n",
       "499  130682       Standard  1295.012183\n",
       "\n",
       "[500 rows x 3 columns]"
      ]
     },
     "execution_count": 16,
     "metadata": {},
     "output_type": "execute_result"
    }
   ],
   "source": [
    "card_data=pd.read_csv(\"creditpromo.csv\")\n",
    "card_data"
   ]
  },
  {
   "cell_type": "code",
   "execution_count": 17,
   "metadata": {},
   "outputs": [
    {
     "data": {
      "text/plain": [
       "array(['Standard', 'New Promotion'], dtype=object)"
      ]
     },
     "execution_count": 17,
     "metadata": {},
     "output_type": "execute_result"
    }
   ],
   "source": [
    "card_data['insert'].unique()"
   ]
  },
  {
   "cell_type": "code",
   "execution_count": 18,
   "metadata": {},
   "outputs": [
    {
     "data": {
      "text/plain": [
       "insert\n",
       "New Promotion    1637.499983\n",
       "Standard         1566.389031\n",
       "Name: dollars, dtype: float64"
      ]
     },
     "execution_count": 18,
     "metadata": {},
     "output_type": "execute_result"
    }
   ],
   "source": [
    "card_data.groupby(\"insert\")[\"dollars\"].mean()"
   ]
  },
  {
   "cell_type": "code",
   "execution_count": 19,
   "metadata": {},
   "outputs": [],
   "source": [
    "standard=card_data.loc[card_data['insert']==\"Standard\",\"dollars\"]"
   ]
  },
  {
   "cell_type": "code",
   "execution_count": 20,
   "metadata": {},
   "outputs": [],
   "source": [
    "New_Promotion=card_data.loc[card_data['insert']==\"New Promotion\",\"dollars\"]"
   ]
  },
  {
   "cell_type": "code",
   "execution_count": 21,
   "metadata": {},
   "outputs": [
    {
     "data": {
      "text/plain": [
       "1      1403.807542\n",
       "4      1513.563200\n",
       "5      1729.627996\n",
       "6      1609.705918\n",
       "9      1854.489028\n",
       "          ...     \n",
       "491    2227.464385\n",
       "492    2007.541756\n",
       "494    2000.050800\n",
       "495    1513.060134\n",
       "496    1020.757943\n",
       "Name: dollars, Length: 250, dtype: float64"
      ]
     },
     "execution_count": 21,
     "metadata": {},
     "output_type": "execute_result"
    }
   ],
   "source": [
    "New_Promotion"
   ]
  },
  {
   "cell_type": "code",
   "execution_count": 22,
   "metadata": {},
   "outputs": [
    {
     "data": {
      "text/plain": [
       "0      2232.771979\n",
       "2      2327.092181\n",
       "3      1280.030541\n",
       "7      1476.624884\n",
       "8      1460.769753\n",
       "          ...     \n",
       "490    1336.515307\n",
       "493    1330.233179\n",
       "497    1919.856304\n",
       "498    1863.014814\n",
       "499    1295.012183\n",
       "Name: dollars, Length: 250, dtype: float64"
      ]
     },
     "execution_count": 22,
     "metadata": {},
     "output_type": "execute_result"
    }
   ],
   "source": [
    "standard"
   ]
  },
  {
   "cell_type": "code",
   "execution_count": 23,
   "metadata": {},
   "outputs": [
    {
     "name": "stdout",
     "output_type": "stream",
     "text": [
      "Average expediture for people with New Promotion: $ 1637.5\n",
      "Average expediture for people with Standard Promotion: $ 1566.39\n"
     ]
    }
   ],
   "source": [
    "print(\"Average expediture for people with New Promotion: $\",round(card_data.groupby(\"insert\")[\"dollars\"].mean()[0],2))\n",
    "\n",
    "print(\"Average expediture for people with Standard Promotion: $\",round(card_data.groupby(\"insert\")[\"dollars\"].mean()[1],2))"
   ]
  },
  {
   "cell_type": "code",
   "execution_count": 24,
   "metadata": {},
   "outputs": [
    {
     "name": "stdout",
     "output_type": "stream",
     "text": [
      "P value= 0.022666277259380106\n"
     ]
    }
   ],
   "source": [
    "# Relational t- test\n",
    "# Ho : mean expenditure is the same, i.e. u_promotion-u_standard=0 \n",
    "# Ha : mean expendiure has increase=, i.e. u_promotion-u_standard>0\n",
    "# CI =95%, pvalue: 0.05\n",
    "\n",
    "# perform the test\n",
    "\n",
    "s3,p3=stats.ttest_rel(New_Promotion,standard)\n",
    "print(\"P value=\",p3)"
   ]
  },
  {
   "cell_type": "code",
   "execution_count": 25,
   "metadata": {},
   "outputs": [
    {
     "name": "stdout",
     "output_type": "stream",
     "text": [
      "Business Conclusion:\n",
      "\tH0 rejected\n",
      "\tNew Promotion is successful\n"
     ]
    }
   ],
   "source": [
    "if p2 < 0.05:\n",
    "    print(\"Business Conclusion:\\n\\tH0 rejected\\n\\tNew Promotion is successful\") \n",
    "    \n",
    "else:\n",
    "     print(\"Business Conclusion:\\n\\tH0 NOT rejected\\n\\tThere is no significant difference in expenditure due to New Promotion\")"
   ]
  },
  {
   "cell_type": "markdown",
   "metadata": {},
   "source": [
    "### Hybrid seed production\n"
   ]
  },
  {
   "cell_type": "code",
   "execution_count": 26,
   "metadata": {},
   "outputs": [
    {
     "data": {
      "text/html": [
       "<div>\n",
       "<style scoped>\n",
       "    .dataframe tbody tr th:only-of-type {\n",
       "        vertical-align: middle;\n",
       "    }\n",
       "\n",
       "    .dataframe tbody tr th {\n",
       "        vertical-align: top;\n",
       "    }\n",
       "\n",
       "    .dataframe thead th {\n",
       "        text-align: right;\n",
       "    }\n",
       "</style>\n",
       "<table border=\"1\" class=\"dataframe\">\n",
       "  <thead>\n",
       "    <tr style=\"text-align: right;\">\n",
       "      <th></th>\n",
       "      <th>Group</th>\n",
       "      <th>Fruit_Wt</th>\n",
       "      <th>Seed_Yield_Plant</th>\n",
       "      <th>Seedling_length</th>\n",
       "    </tr>\n",
       "  </thead>\n",
       "  <tbody>\n",
       "    <tr>\n",
       "      <th>0</th>\n",
       "      <td>Natural</td>\n",
       "      <td>1.85</td>\n",
       "      <td>147.70</td>\n",
       "      <td>16.86</td>\n",
       "    </tr>\n",
       "    <tr>\n",
       "      <th>1</th>\n",
       "      <td>Natural</td>\n",
       "      <td>1.86</td>\n",
       "      <td>136.86</td>\n",
       "      <td>16.77</td>\n",
       "    </tr>\n",
       "    <tr>\n",
       "      <th>2</th>\n",
       "      <td>Natural</td>\n",
       "      <td>1.83</td>\n",
       "      <td>149.97</td>\n",
       "      <td>16.35</td>\n",
       "    </tr>\n",
       "    <tr>\n",
       "      <th>3</th>\n",
       "      <td>Natural</td>\n",
       "      <td>1.89</td>\n",
       "      <td>172.33</td>\n",
       "      <td>18.26</td>\n",
       "    </tr>\n",
       "    <tr>\n",
       "      <th>4</th>\n",
       "      <td>Natural</td>\n",
       "      <td>1.80</td>\n",
       "      <td>144.46</td>\n",
       "      <td>17.90</td>\n",
       "    </tr>\n",
       "    <tr>\n",
       "      <th>5</th>\n",
       "      <td>Natural</td>\n",
       "      <td>1.88</td>\n",
       "      <td>138.30</td>\n",
       "      <td>16.95</td>\n",
       "    </tr>\n",
       "    <tr>\n",
       "      <th>6</th>\n",
       "      <td>Natural</td>\n",
       "      <td>1.89</td>\n",
       "      <td>150.58</td>\n",
       "      <td>18.15</td>\n",
       "    </tr>\n",
       "    <tr>\n",
       "      <th>7</th>\n",
       "      <td>Natural</td>\n",
       "      <td>1.79</td>\n",
       "      <td>140.99</td>\n",
       "      <td>18.86</td>\n",
       "    </tr>\n",
       "    <tr>\n",
       "      <th>8</th>\n",
       "      <td>Natural</td>\n",
       "      <td>1.85</td>\n",
       "      <td>140.57</td>\n",
       "      <td>18.39</td>\n",
       "    </tr>\n",
       "    <tr>\n",
       "      <th>9</th>\n",
       "      <td>Natural</td>\n",
       "      <td>1.84</td>\n",
       "      <td>138.33</td>\n",
       "      <td>18.58</td>\n",
       "    </tr>\n",
       "    <tr>\n",
       "      <th>10</th>\n",
       "      <td>Hand</td>\n",
       "      <td>2.58</td>\n",
       "      <td>224.26</td>\n",
       "      <td>18.18</td>\n",
       "    </tr>\n",
       "    <tr>\n",
       "      <th>11</th>\n",
       "      <td>Hand</td>\n",
       "      <td>2.74</td>\n",
       "      <td>197.50</td>\n",
       "      <td>18.07</td>\n",
       "    </tr>\n",
       "    <tr>\n",
       "      <th>12</th>\n",
       "      <td>Hand</td>\n",
       "      <td>2.58</td>\n",
       "      <td>230.34</td>\n",
       "      <td>19.07</td>\n",
       "    </tr>\n",
       "    <tr>\n",
       "      <th>13</th>\n",
       "      <td>Hand</td>\n",
       "      <td>2.62</td>\n",
       "      <td>217.05</td>\n",
       "      <td>19.00</td>\n",
       "    </tr>\n",
       "    <tr>\n",
       "      <th>14</th>\n",
       "      <td>Hand</td>\n",
       "      <td>2.68</td>\n",
       "      <td>233.84</td>\n",
       "      <td>18.00</td>\n",
       "    </tr>\n",
       "    <tr>\n",
       "      <th>15</th>\n",
       "      <td>Hand</td>\n",
       "      <td>2.56</td>\n",
       "      <td>216.52</td>\n",
       "      <td>18.49</td>\n",
       "    </tr>\n",
       "    <tr>\n",
       "      <th>16</th>\n",
       "      <td>Hand</td>\n",
       "      <td>2.34</td>\n",
       "      <td>211.93</td>\n",
       "      <td>17.45</td>\n",
       "    </tr>\n",
       "    <tr>\n",
       "      <th>17</th>\n",
       "      <td>Hand</td>\n",
       "      <td>2.67</td>\n",
       "      <td>210.37</td>\n",
       "      <td>18.97</td>\n",
       "    </tr>\n",
       "    <tr>\n",
       "      <th>18</th>\n",
       "      <td>Hand</td>\n",
       "      <td>2.45</td>\n",
       "      <td>199.87</td>\n",
       "      <td>19.31</td>\n",
       "    </tr>\n",
       "    <tr>\n",
       "      <th>19</th>\n",
       "      <td>Hand</td>\n",
       "      <td>2.44</td>\n",
       "      <td>214.30</td>\n",
       "      <td>19.36</td>\n",
       "    </tr>\n",
       "  </tbody>\n",
       "</table>\n",
       "</div>"
      ],
      "text/plain": [
       "      Group  Fruit_Wt  Seed_Yield_Plant  Seedling_length\n",
       "0   Natural      1.85            147.70            16.86\n",
       "1   Natural      1.86            136.86            16.77\n",
       "2   Natural      1.83            149.97            16.35\n",
       "3   Natural      1.89            172.33            18.26\n",
       "4   Natural      1.80            144.46            17.90\n",
       "5   Natural      1.88            138.30            16.95\n",
       "6   Natural      1.89            150.58            18.15\n",
       "7   Natural      1.79            140.99            18.86\n",
       "8   Natural      1.85            140.57            18.39\n",
       "9   Natural      1.84            138.33            18.58\n",
       "10     Hand      2.58            224.26            18.18\n",
       "11     Hand      2.74            197.50            18.07\n",
       "12     Hand      2.58            230.34            19.07\n",
       "13     Hand      2.62            217.05            19.00\n",
       "14     Hand      2.68            233.84            18.00\n",
       "15     Hand      2.56            216.52            18.49\n",
       "16     Hand      2.34            211.93            17.45\n",
       "17     Hand      2.67            210.37            18.97\n",
       "18     Hand      2.45            199.87            19.31\n",
       "19     Hand      2.44            214.30            19.36"
      ]
     },
     "execution_count": 26,
     "metadata": {},
     "output_type": "execute_result"
    }
   ],
   "source": [
    "polli_data=pd.read_csv(\"pollination.csv\")\n",
    "\n",
    "polli_data"
   ]
  },
  {
   "cell_type": "code",
   "execution_count": 27,
   "metadata": {},
   "outputs": [],
   "source": [
    "Natural=polli_data.loc[polli_data[\"Group\"]==\"Natural\"]"
   ]
  },
  {
   "cell_type": "code",
   "execution_count": 28,
   "metadata": {},
   "outputs": [
    {
     "data": {
      "text/html": [
       "<div>\n",
       "<style scoped>\n",
       "    .dataframe tbody tr th:only-of-type {\n",
       "        vertical-align: middle;\n",
       "    }\n",
       "\n",
       "    .dataframe tbody tr th {\n",
       "        vertical-align: top;\n",
       "    }\n",
       "\n",
       "    .dataframe thead th {\n",
       "        text-align: right;\n",
       "    }\n",
       "</style>\n",
       "<table border=\"1\" class=\"dataframe\">\n",
       "  <thead>\n",
       "    <tr style=\"text-align: right;\">\n",
       "      <th></th>\n",
       "      <th>Group</th>\n",
       "      <th>Fruit_Wt</th>\n",
       "      <th>Seed_Yield_Plant</th>\n",
       "      <th>Seedling_length</th>\n",
       "    </tr>\n",
       "  </thead>\n",
       "  <tbody>\n",
       "    <tr>\n",
       "      <th>0</th>\n",
       "      <td>Natural</td>\n",
       "      <td>1.85</td>\n",
       "      <td>147.70</td>\n",
       "      <td>16.86</td>\n",
       "    </tr>\n",
       "    <tr>\n",
       "      <th>1</th>\n",
       "      <td>Natural</td>\n",
       "      <td>1.86</td>\n",
       "      <td>136.86</td>\n",
       "      <td>16.77</td>\n",
       "    </tr>\n",
       "    <tr>\n",
       "      <th>2</th>\n",
       "      <td>Natural</td>\n",
       "      <td>1.83</td>\n",
       "      <td>149.97</td>\n",
       "      <td>16.35</td>\n",
       "    </tr>\n",
       "    <tr>\n",
       "      <th>3</th>\n",
       "      <td>Natural</td>\n",
       "      <td>1.89</td>\n",
       "      <td>172.33</td>\n",
       "      <td>18.26</td>\n",
       "    </tr>\n",
       "    <tr>\n",
       "      <th>4</th>\n",
       "      <td>Natural</td>\n",
       "      <td>1.80</td>\n",
       "      <td>144.46</td>\n",
       "      <td>17.90</td>\n",
       "    </tr>\n",
       "    <tr>\n",
       "      <th>5</th>\n",
       "      <td>Natural</td>\n",
       "      <td>1.88</td>\n",
       "      <td>138.30</td>\n",
       "      <td>16.95</td>\n",
       "    </tr>\n",
       "    <tr>\n",
       "      <th>6</th>\n",
       "      <td>Natural</td>\n",
       "      <td>1.89</td>\n",
       "      <td>150.58</td>\n",
       "      <td>18.15</td>\n",
       "    </tr>\n",
       "    <tr>\n",
       "      <th>7</th>\n",
       "      <td>Natural</td>\n",
       "      <td>1.79</td>\n",
       "      <td>140.99</td>\n",
       "      <td>18.86</td>\n",
       "    </tr>\n",
       "    <tr>\n",
       "      <th>8</th>\n",
       "      <td>Natural</td>\n",
       "      <td>1.85</td>\n",
       "      <td>140.57</td>\n",
       "      <td>18.39</td>\n",
       "    </tr>\n",
       "    <tr>\n",
       "      <th>9</th>\n",
       "      <td>Natural</td>\n",
       "      <td>1.84</td>\n",
       "      <td>138.33</td>\n",
       "      <td>18.58</td>\n",
       "    </tr>\n",
       "  </tbody>\n",
       "</table>\n",
       "</div>"
      ],
      "text/plain": [
       "     Group  Fruit_Wt  Seed_Yield_Plant  Seedling_length\n",
       "0  Natural      1.85            147.70            16.86\n",
       "1  Natural      1.86            136.86            16.77\n",
       "2  Natural      1.83            149.97            16.35\n",
       "3  Natural      1.89            172.33            18.26\n",
       "4  Natural      1.80            144.46            17.90\n",
       "5  Natural      1.88            138.30            16.95\n",
       "6  Natural      1.89            150.58            18.15\n",
       "7  Natural      1.79            140.99            18.86\n",
       "8  Natural      1.85            140.57            18.39\n",
       "9  Natural      1.84            138.33            18.58"
      ]
     },
     "execution_count": 28,
     "metadata": {},
     "output_type": "execute_result"
    }
   ],
   "source": [
    "Natural"
   ]
  },
  {
   "cell_type": "code",
   "execution_count": 29,
   "metadata": {},
   "outputs": [],
   "source": [
    "Hand=polli_data.loc[polli_data[\"Group\"]==\"Hand\"]"
   ]
  },
  {
   "cell_type": "code",
   "execution_count": 30,
   "metadata": {},
   "outputs": [
    {
     "data": {
      "text/html": [
       "<div>\n",
       "<style scoped>\n",
       "    .dataframe tbody tr th:only-of-type {\n",
       "        vertical-align: middle;\n",
       "    }\n",
       "\n",
       "    .dataframe tbody tr th {\n",
       "        vertical-align: top;\n",
       "    }\n",
       "\n",
       "    .dataframe thead th {\n",
       "        text-align: right;\n",
       "    }\n",
       "</style>\n",
       "<table border=\"1\" class=\"dataframe\">\n",
       "  <thead>\n",
       "    <tr style=\"text-align: right;\">\n",
       "      <th></th>\n",
       "      <th>Group</th>\n",
       "      <th>Fruit_Wt</th>\n",
       "      <th>Seed_Yield_Plant</th>\n",
       "      <th>Seedling_length</th>\n",
       "    </tr>\n",
       "  </thead>\n",
       "  <tbody>\n",
       "    <tr>\n",
       "      <th>10</th>\n",
       "      <td>Hand</td>\n",
       "      <td>2.58</td>\n",
       "      <td>224.26</td>\n",
       "      <td>18.18</td>\n",
       "    </tr>\n",
       "    <tr>\n",
       "      <th>11</th>\n",
       "      <td>Hand</td>\n",
       "      <td>2.74</td>\n",
       "      <td>197.50</td>\n",
       "      <td>18.07</td>\n",
       "    </tr>\n",
       "    <tr>\n",
       "      <th>12</th>\n",
       "      <td>Hand</td>\n",
       "      <td>2.58</td>\n",
       "      <td>230.34</td>\n",
       "      <td>19.07</td>\n",
       "    </tr>\n",
       "    <tr>\n",
       "      <th>13</th>\n",
       "      <td>Hand</td>\n",
       "      <td>2.62</td>\n",
       "      <td>217.05</td>\n",
       "      <td>19.00</td>\n",
       "    </tr>\n",
       "    <tr>\n",
       "      <th>14</th>\n",
       "      <td>Hand</td>\n",
       "      <td>2.68</td>\n",
       "      <td>233.84</td>\n",
       "      <td>18.00</td>\n",
       "    </tr>\n",
       "    <tr>\n",
       "      <th>15</th>\n",
       "      <td>Hand</td>\n",
       "      <td>2.56</td>\n",
       "      <td>216.52</td>\n",
       "      <td>18.49</td>\n",
       "    </tr>\n",
       "    <tr>\n",
       "      <th>16</th>\n",
       "      <td>Hand</td>\n",
       "      <td>2.34</td>\n",
       "      <td>211.93</td>\n",
       "      <td>17.45</td>\n",
       "    </tr>\n",
       "    <tr>\n",
       "      <th>17</th>\n",
       "      <td>Hand</td>\n",
       "      <td>2.67</td>\n",
       "      <td>210.37</td>\n",
       "      <td>18.97</td>\n",
       "    </tr>\n",
       "    <tr>\n",
       "      <th>18</th>\n",
       "      <td>Hand</td>\n",
       "      <td>2.45</td>\n",
       "      <td>199.87</td>\n",
       "      <td>19.31</td>\n",
       "    </tr>\n",
       "    <tr>\n",
       "      <th>19</th>\n",
       "      <td>Hand</td>\n",
       "      <td>2.44</td>\n",
       "      <td>214.30</td>\n",
       "      <td>19.36</td>\n",
       "    </tr>\n",
       "  </tbody>\n",
       "</table>\n",
       "</div>"
      ],
      "text/plain": [
       "   Group  Fruit_Wt  Seed_Yield_Plant  Seedling_length\n",
       "10  Hand      2.58            224.26            18.18\n",
       "11  Hand      2.74            197.50            18.07\n",
       "12  Hand      2.58            230.34            19.07\n",
       "13  Hand      2.62            217.05            19.00\n",
       "14  Hand      2.68            233.84            18.00\n",
       "15  Hand      2.56            216.52            18.49\n",
       "16  Hand      2.34            211.93            17.45\n",
       "17  Hand      2.67            210.37            18.97\n",
       "18  Hand      2.45            199.87            19.31\n",
       "19  Hand      2.44            214.30            19.36"
      ]
     },
     "execution_count": 30,
     "metadata": {},
     "output_type": "execute_result"
    }
   ],
   "source": [
    "Hand"
   ]
  },
  {
   "cell_type": "markdown",
   "metadata": {},
   "source": [
    "##### Is the overall population of Seed yield/plant (g) equals to 200?"
   ]
  },
  {
   "cell_type": "code",
   "execution_count": 31,
   "metadata": {},
   "outputs": [],
   "source": [
    "Y=polli_data.Seed_Yield_Plant"
   ]
  },
  {
   "cell_type": "code",
   "execution_count": 32,
   "metadata": {},
   "outputs": [
    {
     "name": "stdout",
     "output_type": "stream",
     "text": [
      "P value= 0.032891040921283025\n"
     ]
    }
   ],
   "source": [
    "# Single T test\n",
    "# Ho : mean seed yield is 200, i.e. u_yield=200 \n",
    "# Ha : mean seed yield not 200=, i.e. u_yield<>200\n",
    "# CI =95%, pvalue: 0.05\n",
    "\n",
    "# perform the test\n",
    "\n",
    "syield,pyield=stats.ttest_1samp(Y,200)\n",
    "print(\"P value=\",pyield)"
   ]
  },
  {
   "cell_type": "code",
   "execution_count": 33,
   "metadata": {},
   "outputs": [
    {
     "name": "stdout",
     "output_type": "stream",
     "text": [
      "Business Conclusion:\n",
      "\tH0 rejected\n",
      "\t Yield is not 200\n"
     ]
    }
   ],
   "source": [
    "if p2 < 0.05:\n",
    "    print(\"Business Conclusion:\\n\\tH0 rejected\\n\\t Yield is not 200\") \n",
    "    \n",
    "else:\n",
    "     print(\"Business Conclusion:\\n\\tH0 NOT rejected\\n\\tYield is 200\")"
   ]
  },
  {
   "cell_type": "markdown",
   "metadata": {},
   "source": [
    "##### Test whether the natural pollination and hand pollination under open field conditions are equally effective or are significantly different."
   ]
  },
  {
   "cell_type": "code",
   "execution_count": 34,
   "metadata": {},
   "outputs": [],
   "source": [
    "N_wt=Natural.Fruit_Wt\n",
    "H_wt=Hand.Fruit_Wt"
   ]
  },
  {
   "cell_type": "code",
   "execution_count": 35,
   "metadata": {
    "scrolled": true
   },
   "outputs": [
    {
     "name": "stdout",
     "output_type": "stream",
     "text": [
      "Mean weight of naturally pollinated fruit 1.848\n",
      "Mean weight of hand pollinated fruit 2.57\n"
     ]
    }
   ],
   "source": [
    "print(\"Mean weight of naturally pollinated fruit\",N_wt.mean())\n",
    "print(\"Mean weight of hand pollinated fruit\",round(H_wt.mean(),2))"
   ]
  },
  {
   "cell_type": "code",
   "execution_count": 36,
   "metadata": {},
   "outputs": [
    {
     "name": "stdout",
     "output_type": "stream",
     "text": [
      "P value= 8.078362076486221e-13\n"
     ]
    }
   ],
   "source": [
    "# independent T test\n",
    "# Ho : mean fruit weights are same, i.e. u_n=u-h \n",
    "# Ha : mean weights are differnt=, i.e. u_h>u_n or u_h < u_n\n",
    "# CI =95%, pvalue: 0.05\n",
    "\n",
    "# perform the test\n",
    "\n",
    "s_wt,p_wt=stats.ttest_ind(N_wt,H_wt)\n",
    "print(\"P value=\",p_wt)"
   ]
  },
  {
   "cell_type": "code",
   "execution_count": 37,
   "metadata": {},
   "outputs": [
    {
     "name": "stdout",
     "output_type": "stream",
     "text": [
      "Business Conclusion:\n",
      "\tH0 rejected\n",
      "\t Mean Weight of both techniques is not same\n"
     ]
    }
   ],
   "source": [
    "if p2 < 0.05:\n",
    "    print(\"Business Conclusion:\\n\\tH0 rejected\\n\\t Mean Weight of both techniques is not same\") \n",
    "    \n",
    "else:\n",
    "     print(\"Business Conclusion:\\n\\tH0 NOT rejected\\n\\tMean Weight of both techniques is same\")"
   ]
  },
  {
   "cell_type": "code",
   "execution_count": 38,
   "metadata": {},
   "outputs": [],
   "source": [
    "N_yield=Natural.Seed_Yield_Plant\n",
    "H_yield=Hand.Seed_Yield_Plant"
   ]
  },
  {
   "cell_type": "code",
   "execution_count": 39,
   "metadata": {},
   "outputs": [
    {
     "name": "stdout",
     "output_type": "stream",
     "text": [
      "P value= 4.2714815854843853e-11\n"
     ]
    }
   ],
   "source": [
    "# indipendent T test\n",
    "# Ho : mean fruit yields for both the techniques are same, i.e. u_n=u-h \n",
    "# Ha : mean fruit yields for both the techniques are differnt=, i.e. u_h>u_n or u_h < u_n\n",
    "# CI =95%, pvalue: 0.05\n",
    "\n",
    "# perform the test\n",
    "\n",
    "s_y,p_y=stats.ttest_ind(N_yield,H_yield)\n",
    "print(\"P value=\",p_y)"
   ]
  },
  {
   "cell_type": "code",
   "execution_count": 40,
   "metadata": {},
   "outputs": [
    {
     "name": "stdout",
     "output_type": "stream",
     "text": [
      "Business Conclusion:\n",
      "\tH0 rejected\n",
      "\t Mean yields of both techniques is not same\n"
     ]
    }
   ],
   "source": [
    "if p2 < 0.05:\n",
    "    print(\"Business Conclusion:\\n\\tH0 rejected\\n\\t Mean yields of both techniques is not same\") \n",
    "    \n",
    "else:\n",
    "     print(\"Business Conclusion:\\n\\tH0 NOT rejected\\n\\tMean yields of both techniques is same\")"
   ]
  },
  {
   "cell_type": "code",
   "execution_count": 41,
   "metadata": {},
   "outputs": [],
   "source": [
    "N_len=Natural.Seedling_length\n",
    "H_len=Hand.Seedling_length"
   ]
  },
  {
   "cell_type": "code",
   "execution_count": 42,
   "metadata": {},
   "outputs": [
    {
     "name": "stdout",
     "output_type": "stream",
     "text": [
      "P value= 0.020428817064110226\n"
     ]
    }
   ],
   "source": [
    "# independent T test\n",
    "# Ho : mean Seedling_length for both the techniques are same, i.e. u_n=u-h \n",
    "# Ha : mean Seedling_length for both the techniques are differnt=, i.e. u_h>u_n or u_h < u_n\n",
    "# CI =95%, pvalue: 0.05\n",
    "\n",
    "# perform the test\n",
    "\n",
    "s_len,p_len=stats.ttest_ind(N_len,H_len)\n",
    "print(\"P value=\",p_len)"
   ]
  },
  {
   "cell_type": "code",
   "execution_count": 43,
   "metadata": {},
   "outputs": [
    {
     "name": "stdout",
     "output_type": "stream",
     "text": [
      "Business Conclusion:\n",
      "\tH0 rejected\n",
      "\t Mean seedling_length of both techniques is not same\n"
     ]
    }
   ],
   "source": [
    "if p2 < 0.05:\n",
    "    print(\"Business Conclusion:\\n\\tH0 rejected\\n\\t Mean seedling_length of both techniques is not same\") \n",
    "    \n",
    "else:\n",
    "     print(\"Business Conclusion:\\n\\tH0 NOT rejected\\n\\tMean seedling_length of both techniques is same\")"
   ]
  },
  {
   "cell_type": "markdown",
   "metadata": {},
   "source": [
    "## DVD player"
   ]
  },
  {
   "cell_type": "code",
   "execution_count": 50,
   "metadata": {},
   "outputs": [],
   "source": [
    "dvd_data= pd.read_csv('dvdplayer.csv')"
   ]
  },
  {
   "cell_type": "code",
   "execution_count": 51,
   "metadata": {},
   "outputs": [
    {
     "data": {
      "text/plain": [
       "65 and over    17\n",
       "Under 25       13\n",
       "35-44          12\n",
       "25-34          10\n",
       "45-54          10\n",
       "55-64           6\n",
       "Name: agegroup, dtype: int64"
      ]
     },
     "execution_count": 51,
     "metadata": {},
     "output_type": "execute_result"
    }
   ],
   "source": [
    "dvd_data.agegroup.value_counts()"
   ]
  },
  {
   "cell_type": "code",
   "execution_count": 52,
   "metadata": {},
   "outputs": [],
   "source": [
    "Above_65=dvd_data.loc[dvd_data[\"agegroup\"]==\"65 and over\",\"dvdscore\"]\n",
    "\n",
    "Above_55=dvd_data.loc[dvd_data[\"agegroup\"]==\"55-64\",\"dvdscore\"]\n",
    "\n",
    "Above_45=dvd_data.loc[dvd_data[\"agegroup\"]==\"45-54\",\"dvdscore\"]\n",
    "\n",
    "Above_35=dvd_data.loc[dvd_data[\"agegroup\"]==\"35-44\",\"dvdscore\"]\n",
    "\n",
    "Above_25=dvd_data.loc[dvd_data[\"agegroup\"]==\"25-34\",\"dvdscore\"]\n",
    "\n",
    "Under_25=dvd_data.loc[dvd_data[\"agegroup\"]==\"Under 25\",\"dvdscore\"]"
   ]
  },
  {
   "cell_type": "code",
   "execution_count": 53,
   "metadata": {},
   "outputs": [
    {
     "name": "stdout",
     "output_type": "stream",
     "text": [
      "P value= 3.087324905679639e-05\n"
     ]
    }
   ],
   "source": [
    "# ANOVA F Test\n",
    "# One way because there is only one continous variable (AgeGroup)\n",
    "\n",
    "# Ho : mean dvd_score from all the age groups is same, i.e. u_65=u_55=u_35....\n",
    "\n",
    "# Ha : There is significant difference between the mean score of all the age groups.\n",
    "\n",
    "# CI =95%, pvalue: 0.05\n",
    "\n",
    "# perform the test\n",
    "\n",
    "s_dvd,p_dvd= stats.f_oneway(Above_65,Above_55,Above_45,Above_35,Above_25,Under_25)\n",
    "print(\"P value=\",p_dvd)"
   ]
  },
  {
   "cell_type": "code",
   "execution_count": 54,
   "metadata": {},
   "outputs": [
    {
     "name": "stdout",
     "output_type": "stream",
     "text": [
      "Business Conclusion:\n",
      "\tH0 rejected\n",
      "\tAverage rating from all the age groups is the same\n"
     ]
    }
   ],
   "source": [
    "if p2 < 0.05:\n",
    "    print(\"Business Conclusion:\\n\\tH0 rejected\\n\\tAverage rating from all the age groups is the same\") \n",
    "    \n",
    "else:\n",
    "     print(\"Business Conclusion:\\n\\tH0 NOT rejected\\n\\tAverage rating from all the age groups is the different\")"
   ]
  },
  {
   "cell_type": "markdown",
   "metadata": {},
   "source": [
    "## Customer data"
   ]
  },
  {
   "cell_type": "code",
   "execution_count": 55,
   "metadata": {},
   "outputs": [
    {
     "data": {
      "text/html": [
       "<div>\n",
       "<style scoped>\n",
       "    .dataframe tbody tr th:only-of-type {\n",
       "        vertical-align: middle;\n",
       "    }\n",
       "\n",
       "    .dataframe tbody tr th {\n",
       "        vertical-align: top;\n",
       "    }\n",
       "\n",
       "    .dataframe thead th {\n",
       "        text-align: right;\n",
       "    }\n",
       "</style>\n",
       "<table border=\"1\" class=\"dataframe\">\n",
       "  <thead>\n",
       "    <tr style=\"text-align: right;\">\n",
       "      <th></th>\n",
       "      <th>id</th>\n",
       "      <th>wrkstat</th>\n",
       "      <th>marital</th>\n",
       "      <th>childs</th>\n",
       "      <th>age</th>\n",
       "      <th>educ</th>\n",
       "      <th>paeduc</th>\n",
       "      <th>maeduc</th>\n",
       "      <th>speduc</th>\n",
       "      <th>degree</th>\n",
       "      <th>...</th>\n",
       "      <th>agecat</th>\n",
       "      <th>childcat</th>\n",
       "      <th>news1</th>\n",
       "      <th>news2</th>\n",
       "      <th>news3</th>\n",
       "      <th>news4</th>\n",
       "      <th>news5</th>\n",
       "      <th>car1</th>\n",
       "      <th>car2</th>\n",
       "      <th>car3</th>\n",
       "    </tr>\n",
       "  </thead>\n",
       "  <tbody>\n",
       "    <tr>\n",
       "      <th>0</th>\n",
       "      <td>1</td>\n",
       "      <td>Working full time</td>\n",
       "      <td>Divorced</td>\n",
       "      <td>2.0</td>\n",
       "      <td>60.0</td>\n",
       "      <td>12.0</td>\n",
       "      <td>12.0</td>\n",
       "      <td>12.0</td>\n",
       "      <td>NaN</td>\n",
       "      <td>High school</td>\n",
       "      <td>...</td>\n",
       "      <td>55 to 64</td>\n",
       "      <td>1-2</td>\n",
       "      <td>No</td>\n",
       "      <td>No</td>\n",
       "      <td>No</td>\n",
       "      <td>No</td>\n",
       "      <td>No</td>\n",
       "      <td>American</td>\n",
       "      <td>Japanese</td>\n",
       "      <td>Japanese</td>\n",
       "    </tr>\n",
       "    <tr>\n",
       "      <th>1</th>\n",
       "      <td>2</td>\n",
       "      <td>Working part-time</td>\n",
       "      <td>Never married</td>\n",
       "      <td>0.0</td>\n",
       "      <td>27.0</td>\n",
       "      <td>17.0</td>\n",
       "      <td>20.0</td>\n",
       "      <td>NaN</td>\n",
       "      <td>NaN</td>\n",
       "      <td>Junior college</td>\n",
       "      <td>...</td>\n",
       "      <td>25 to 34</td>\n",
       "      <td>None</td>\n",
       "      <td>No</td>\n",
       "      <td>No</td>\n",
       "      <td>Yes</td>\n",
       "      <td>No</td>\n",
       "      <td>No</td>\n",
       "      <td>American</td>\n",
       "      <td>German</td>\n",
       "      <td>Japanese</td>\n",
       "    </tr>\n",
       "    <tr>\n",
       "      <th>2</th>\n",
       "      <td>3</td>\n",
       "      <td>Working full time</td>\n",
       "      <td>Married</td>\n",
       "      <td>2.0</td>\n",
       "      <td>36.0</td>\n",
       "      <td>12.0</td>\n",
       "      <td>12.0</td>\n",
       "      <td>12.0</td>\n",
       "      <td>16.0</td>\n",
       "      <td>High school</td>\n",
       "      <td>...</td>\n",
       "      <td>35 to 44</td>\n",
       "      <td>1-2</td>\n",
       "      <td>No</td>\n",
       "      <td>No</td>\n",
       "      <td>No</td>\n",
       "      <td>Yes</td>\n",
       "      <td>Yes</td>\n",
       "      <td>American</td>\n",
       "      <td>American</td>\n",
       "      <td>NaN</td>\n",
       "    </tr>\n",
       "    <tr>\n",
       "      <th>3</th>\n",
       "      <td>4</td>\n",
       "      <td>Working full time</td>\n",
       "      <td>Never married</td>\n",
       "      <td>0.0</td>\n",
       "      <td>21.0</td>\n",
       "      <td>13.0</td>\n",
       "      <td>NaN</td>\n",
       "      <td>12.0</td>\n",
       "      <td>NaN</td>\n",
       "      <td>High school</td>\n",
       "      <td>...</td>\n",
       "      <td>Less than 25</td>\n",
       "      <td>None</td>\n",
       "      <td>No</td>\n",
       "      <td>No</td>\n",
       "      <td>No</td>\n",
       "      <td>Yes</td>\n",
       "      <td>Yes</td>\n",
       "      <td>American</td>\n",
       "      <td>Other</td>\n",
       "      <td>NaN</td>\n",
       "    </tr>\n",
       "    <tr>\n",
       "      <th>4</th>\n",
       "      <td>5</td>\n",
       "      <td>Working full time</td>\n",
       "      <td>Never married</td>\n",
       "      <td>0.0</td>\n",
       "      <td>35.0</td>\n",
       "      <td>16.0</td>\n",
       "      <td>NaN</td>\n",
       "      <td>12.0</td>\n",
       "      <td>NaN</td>\n",
       "      <td>Bachelor</td>\n",
       "      <td>...</td>\n",
       "      <td>35 to 44</td>\n",
       "      <td>None</td>\n",
       "      <td>No</td>\n",
       "      <td>No</td>\n",
       "      <td>No</td>\n",
       "      <td>No</td>\n",
       "      <td>No</td>\n",
       "      <td>American</td>\n",
       "      <td>American</td>\n",
       "      <td>Korean</td>\n",
       "    </tr>\n",
       "    <tr>\n",
       "      <th>...</th>\n",
       "      <td>...</td>\n",
       "      <td>...</td>\n",
       "      <td>...</td>\n",
       "      <td>...</td>\n",
       "      <td>...</td>\n",
       "      <td>...</td>\n",
       "      <td>...</td>\n",
       "      <td>...</td>\n",
       "      <td>...</td>\n",
       "      <td>...</td>\n",
       "      <td>...</td>\n",
       "      <td>...</td>\n",
       "      <td>...</td>\n",
       "      <td>...</td>\n",
       "      <td>...</td>\n",
       "      <td>...</td>\n",
       "      <td>...</td>\n",
       "      <td>...</td>\n",
       "      <td>...</td>\n",
       "      <td>...</td>\n",
       "      <td>...</td>\n",
       "    </tr>\n",
       "    <tr>\n",
       "      <th>2827</th>\n",
       "      <td>2828</td>\n",
       "      <td>Working full time</td>\n",
       "      <td>Married</td>\n",
       "      <td>2.0</td>\n",
       "      <td>73.0</td>\n",
       "      <td>14.0</td>\n",
       "      <td>8.0</td>\n",
       "      <td>12.0</td>\n",
       "      <td>12.0</td>\n",
       "      <td>Junior college</td>\n",
       "      <td>...</td>\n",
       "      <td>65 or older</td>\n",
       "      <td>1-2</td>\n",
       "      <td>No</td>\n",
       "      <td>No</td>\n",
       "      <td>No</td>\n",
       "      <td>No</td>\n",
       "      <td>No</td>\n",
       "      <td>American</td>\n",
       "      <td>American</td>\n",
       "      <td>German</td>\n",
       "    </tr>\n",
       "    <tr>\n",
       "      <th>2828</th>\n",
       "      <td>2829</td>\n",
       "      <td>Working full time</td>\n",
       "      <td>Divorced</td>\n",
       "      <td>0.0</td>\n",
       "      <td>40.0</td>\n",
       "      <td>12.0</td>\n",
       "      <td>12.0</td>\n",
       "      <td>12.0</td>\n",
       "      <td>NaN</td>\n",
       "      <td>High school</td>\n",
       "      <td>...</td>\n",
       "      <td>35 to 44</td>\n",
       "      <td>None</td>\n",
       "      <td>No</td>\n",
       "      <td>No</td>\n",
       "      <td>No</td>\n",
       "      <td>No</td>\n",
       "      <td>No</td>\n",
       "      <td>Japanese</td>\n",
       "      <td>NaN</td>\n",
       "      <td>NaN</td>\n",
       "    </tr>\n",
       "    <tr>\n",
       "      <th>2829</th>\n",
       "      <td>2830</td>\n",
       "      <td>Retired</td>\n",
       "      <td>Married</td>\n",
       "      <td>0.0</td>\n",
       "      <td>73.0</td>\n",
       "      <td>6.0</td>\n",
       "      <td>4.0</td>\n",
       "      <td>NaN</td>\n",
       "      <td>10.0</td>\n",
       "      <td>LT High school</td>\n",
       "      <td>...</td>\n",
       "      <td>65 or older</td>\n",
       "      <td>None</td>\n",
       "      <td>Yes</td>\n",
       "      <td>No</td>\n",
       "      <td>Yes</td>\n",
       "      <td>No</td>\n",
       "      <td>No</td>\n",
       "      <td>Korean</td>\n",
       "      <td>American</td>\n",
       "      <td>American</td>\n",
       "    </tr>\n",
       "    <tr>\n",
       "      <th>2830</th>\n",
       "      <td>2831</td>\n",
       "      <td>Working full time</td>\n",
       "      <td>Never married</td>\n",
       "      <td>0.0</td>\n",
       "      <td>47.0</td>\n",
       "      <td>12.0</td>\n",
       "      <td>12.0</td>\n",
       "      <td>12.0</td>\n",
       "      <td>NaN</td>\n",
       "      <td>High school</td>\n",
       "      <td>...</td>\n",
       "      <td>45 to 54</td>\n",
       "      <td>None</td>\n",
       "      <td>No</td>\n",
       "      <td>No</td>\n",
       "      <td>No</td>\n",
       "      <td>No</td>\n",
       "      <td>No</td>\n",
       "      <td>Japanese</td>\n",
       "      <td>NaN</td>\n",
       "      <td>NaN</td>\n",
       "    </tr>\n",
       "    <tr>\n",
       "      <th>2831</th>\n",
       "      <td>2832</td>\n",
       "      <td>Working part-time</td>\n",
       "      <td>Never married</td>\n",
       "      <td>0.0</td>\n",
       "      <td>20.0</td>\n",
       "      <td>10.0</td>\n",
       "      <td>NaN</td>\n",
       "      <td>NaN</td>\n",
       "      <td>NaN</td>\n",
       "      <td>LT High school</td>\n",
       "      <td>...</td>\n",
       "      <td>Less than 25</td>\n",
       "      <td>None</td>\n",
       "      <td>No</td>\n",
       "      <td>No</td>\n",
       "      <td>No</td>\n",
       "      <td>No</td>\n",
       "      <td>No</td>\n",
       "      <td>Swedish</td>\n",
       "      <td>American</td>\n",
       "      <td>German</td>\n",
       "    </tr>\n",
       "  </tbody>\n",
       "</table>\n",
       "<p>2832 rows × 46 columns</p>\n",
       "</div>"
      ],
      "text/plain": [
       "        id            wrkstat        marital  childs   age  educ  paeduc  \\\n",
       "0        1  Working full time       Divorced     2.0  60.0  12.0    12.0   \n",
       "1        2  Working part-time  Never married     0.0  27.0  17.0    20.0   \n",
       "2        3  Working full time        Married     2.0  36.0  12.0    12.0   \n",
       "3        4  Working full time  Never married     0.0  21.0  13.0     NaN   \n",
       "4        5  Working full time  Never married     0.0  35.0  16.0     NaN   \n",
       "...    ...                ...            ...     ...   ...   ...     ...   \n",
       "2827  2828  Working full time        Married     2.0  73.0  14.0     8.0   \n",
       "2828  2829  Working full time       Divorced     0.0  40.0  12.0    12.0   \n",
       "2829  2830            Retired        Married     0.0  73.0   6.0     4.0   \n",
       "2830  2831  Working full time  Never married     0.0  47.0  12.0    12.0   \n",
       "2831  2832  Working part-time  Never married     0.0  20.0  10.0     NaN   \n",
       "\n",
       "      maeduc  speduc          degree  ...        agecat childcat news1 news2  \\\n",
       "0       12.0     NaN     High school  ...      55 to 64      1-2    No    No   \n",
       "1        NaN     NaN  Junior college  ...      25 to 34     None    No    No   \n",
       "2       12.0    16.0     High school  ...      35 to 44      1-2    No    No   \n",
       "3       12.0     NaN     High school  ...  Less than 25     None    No    No   \n",
       "4       12.0     NaN        Bachelor  ...      35 to 44     None    No    No   \n",
       "...      ...     ...             ...  ...           ...      ...   ...   ...   \n",
       "2827    12.0    12.0  Junior college  ...   65 or older      1-2    No    No   \n",
       "2828    12.0     NaN     High school  ...      35 to 44     None    No    No   \n",
       "2829     NaN    10.0  LT High school  ...   65 or older     None   Yes    No   \n",
       "2830    12.0     NaN     High school  ...      45 to 54     None    No    No   \n",
       "2831     NaN     NaN  LT High school  ...  Less than 25     None    No    No   \n",
       "\n",
       "      news3 news4 news5      car1      car2      car3  \n",
       "0        No    No    No  American  Japanese  Japanese  \n",
       "1       Yes    No    No  American    German  Japanese  \n",
       "2        No   Yes   Yes  American  American       NaN  \n",
       "3        No   Yes   Yes  American     Other       NaN  \n",
       "4        No    No    No  American  American    Korean  \n",
       "...     ...   ...   ...       ...       ...       ...  \n",
       "2827     No    No    No  American  American    German  \n",
       "2828     No    No    No  Japanese       NaN       NaN  \n",
       "2829    Yes    No    No    Korean  American  American  \n",
       "2830     No    No    No  Japanese       NaN       NaN  \n",
       "2831     No    No    No   Swedish  American    German  \n",
       "\n",
       "[2832 rows x 46 columns]"
      ]
     },
     "execution_count": 55,
     "metadata": {},
     "output_type": "execute_result"
    }
   ],
   "source": [
    "customer_data=pd.read_csv(\"sample_survey.csv\")\n",
    "customer_data"
   ]
  },
  {
   "cell_type": "code",
   "execution_count": 56,
   "metadata": {},
   "outputs": [
    {
     "name": "stdout",
     "output_type": "stream",
     "text": [
      "<class 'pandas.core.frame.DataFrame'>\n",
      "RangeIndex: 2832 entries, 0 to 2831\n",
      "Data columns (total 46 columns):\n",
      " #   Column    Non-Null Count  Dtype  \n",
      "---  ------    --------------  -----  \n",
      " 0   id        2832 non-null   int64  \n",
      " 1   wrkstat   2831 non-null   object \n",
      " 2   marital   2831 non-null   object \n",
      " 3   childs    2825 non-null   float64\n",
      " 4   age       2828 non-null   float64\n",
      " 5   educ      2820 non-null   float64\n",
      " 6   paeduc    2041 non-null   float64\n",
      " 7   maeduc    2399 non-null   float64\n",
      " 8   speduc    1311 non-null   float64\n",
      " 9   degree    2822 non-null   object \n",
      " 10  sex       2832 non-null   object \n",
      " 11  race      2832 non-null   object \n",
      " 12  born      2819 non-null   object \n",
      " 13  parborn   2812 non-null   object \n",
      " 14  granborn  2630 non-null   float64\n",
      " 15  income    2503 non-null   object \n",
      " 16  rincome   1849 non-null   object \n",
      " 17  polviews  2691 non-null   object \n",
      " 18  cappun    2599 non-null   object \n",
      " 19  postlife  2066 non-null   object \n",
      " 20  happy     2806 non-null   object \n",
      " 21  hapmar    1337 non-null   object \n",
      " 22  owngun    1869 non-null   object \n",
      " 23  news      1870 non-null   object \n",
      " 24  tvhours   2337 non-null   float64\n",
      " 25  howpaid   1347 non-null   object \n",
      " 26  ethnic    2238 non-null   object \n",
      " 27  eth1      2557 non-null   object \n",
      " 28  eth2      1102 non-null   object \n",
      " 29  eth3      444 non-null    object \n",
      " 30  confinan  1864 non-null   object \n",
      " 31  conbus    1821 non-null   object \n",
      " 32  coneduc   1881 non-null   object \n",
      " 33  conpress  1862 non-null   object \n",
      " 34  conmedic  1875 non-null   object \n",
      " 35  contv     1876 non-null   object \n",
      " 36  agecat    2828 non-null   object \n",
      " 37  childcat  2825 non-null   object \n",
      " 38  news1     2832 non-null   object \n",
      " 39  news2     2832 non-null   object \n",
      " 40  news3     2832 non-null   object \n",
      " 41  news4     2832 non-null   object \n",
      " 42  news5     2832 non-null   object \n",
      " 43  car1      2832 non-null   object \n",
      " 44  car2      2266 non-null   object \n",
      " 45  car3      1672 non-null   object \n",
      "dtypes: float64(8), int64(1), object(37)\n",
      "memory usage: 1017.9+ KB\n"
     ]
    }
   ],
   "source": [
    "customer_data.info()"
   ]
  },
  {
   "cell_type": "markdown",
   "metadata": {},
   "source": [
    "##### Is there any relationship in between labour force status with marital status?"
   ]
  },
  {
   "cell_type": "code",
   "execution_count": 57,
   "metadata": {},
   "outputs": [],
   "source": [
    "cd_1=customer_data[[\"wrkstat\",\"marital\"]].dropna()"
   ]
  },
  {
   "cell_type": "code",
   "execution_count": 58,
   "metadata": {},
   "outputs": [
    {
     "data": {
      "text/html": [
       "<div>\n",
       "<style scoped>\n",
       "    .dataframe tbody tr th:only-of-type {\n",
       "        vertical-align: middle;\n",
       "    }\n",
       "\n",
       "    .dataframe tbody tr th {\n",
       "        vertical-align: top;\n",
       "    }\n",
       "\n",
       "    .dataframe thead th {\n",
       "        text-align: right;\n",
       "    }\n",
       "</style>\n",
       "<table border=\"1\" class=\"dataframe\">\n",
       "  <thead>\n",
       "    <tr style=\"text-align: right;\">\n",
       "      <th></th>\n",
       "      <th>wrkstat</th>\n",
       "      <th>marital</th>\n",
       "    </tr>\n",
       "  </thead>\n",
       "  <tbody>\n",
       "    <tr>\n",
       "      <th>0</th>\n",
       "      <td>Working full time</td>\n",
       "      <td>Divorced</td>\n",
       "    </tr>\n",
       "    <tr>\n",
       "      <th>1</th>\n",
       "      <td>Working part-time</td>\n",
       "      <td>Never married</td>\n",
       "    </tr>\n",
       "    <tr>\n",
       "      <th>2</th>\n",
       "      <td>Working full time</td>\n",
       "      <td>Married</td>\n",
       "    </tr>\n",
       "    <tr>\n",
       "      <th>3</th>\n",
       "      <td>Working full time</td>\n",
       "      <td>Never married</td>\n",
       "    </tr>\n",
       "    <tr>\n",
       "      <th>4</th>\n",
       "      <td>Working full time</td>\n",
       "      <td>Never married</td>\n",
       "    </tr>\n",
       "    <tr>\n",
       "      <th>...</th>\n",
       "      <td>...</td>\n",
       "      <td>...</td>\n",
       "    </tr>\n",
       "    <tr>\n",
       "      <th>2827</th>\n",
       "      <td>Working full time</td>\n",
       "      <td>Married</td>\n",
       "    </tr>\n",
       "    <tr>\n",
       "      <th>2828</th>\n",
       "      <td>Working full time</td>\n",
       "      <td>Divorced</td>\n",
       "    </tr>\n",
       "    <tr>\n",
       "      <th>2829</th>\n",
       "      <td>Retired</td>\n",
       "      <td>Married</td>\n",
       "    </tr>\n",
       "    <tr>\n",
       "      <th>2830</th>\n",
       "      <td>Working full time</td>\n",
       "      <td>Never married</td>\n",
       "    </tr>\n",
       "    <tr>\n",
       "      <th>2831</th>\n",
       "      <td>Working part-time</td>\n",
       "      <td>Never married</td>\n",
       "    </tr>\n",
       "  </tbody>\n",
       "</table>\n",
       "<p>2830 rows × 2 columns</p>\n",
       "</div>"
      ],
      "text/plain": [
       "                wrkstat        marital\n",
       "0     Working full time       Divorced\n",
       "1     Working part-time  Never married\n",
       "2     Working full time        Married\n",
       "3     Working full time  Never married\n",
       "4     Working full time  Never married\n",
       "...                 ...            ...\n",
       "2827  Working full time        Married\n",
       "2828  Working full time       Divorced\n",
       "2829            Retired        Married\n",
       "2830  Working full time  Never married\n",
       "2831  Working part-time  Never married\n",
       "\n",
       "[2830 rows x 2 columns]"
      ]
     },
     "execution_count": 58,
     "metadata": {},
     "output_type": "execute_result"
    }
   ],
   "source": [
    "cd_1"
   ]
  },
  {
   "cell_type": "code",
   "execution_count": 59,
   "metadata": {},
   "outputs": [],
   "source": [
    "work_marriage=pd.crosstab(cd_1.wrkstat,cd_1.marital)"
   ]
  },
  {
   "cell_type": "code",
   "execution_count": 60,
   "metadata": {},
   "outputs": [
    {
     "data": {
      "text/html": [
       "<div>\n",
       "<style scoped>\n",
       "    .dataframe tbody tr th:only-of-type {\n",
       "        vertical-align: middle;\n",
       "    }\n",
       "\n",
       "    .dataframe tbody tr th {\n",
       "        vertical-align: top;\n",
       "    }\n",
       "\n",
       "    .dataframe thead th {\n",
       "        text-align: right;\n",
       "    }\n",
       "</style>\n",
       "<table border=\"1\" class=\"dataframe\">\n",
       "  <thead>\n",
       "    <tr style=\"text-align: right;\">\n",
       "      <th>marital</th>\n",
       "      <th>Divorced</th>\n",
       "      <th>Married</th>\n",
       "      <th>Never married</th>\n",
       "      <th>Separated</th>\n",
       "      <th>Widowed</th>\n",
       "    </tr>\n",
       "    <tr>\n",
       "      <th>wrkstat</th>\n",
       "      <th></th>\n",
       "      <th></th>\n",
       "      <th></th>\n",
       "      <th></th>\n",
       "      <th></th>\n",
       "    </tr>\n",
       "  </thead>\n",
       "  <tbody>\n",
       "    <tr>\n",
       "      <th>Keeping house</th>\n",
       "      <td>25</td>\n",
       "      <td>200</td>\n",
       "      <td>35</td>\n",
       "      <td>13</td>\n",
       "      <td>55</td>\n",
       "    </tr>\n",
       "    <tr>\n",
       "      <th>Other</th>\n",
       "      <td>12</td>\n",
       "      <td>16</td>\n",
       "      <td>14</td>\n",
       "      <td>4</td>\n",
       "      <td>8</td>\n",
       "    </tr>\n",
       "    <tr>\n",
       "      <th>Retired</th>\n",
       "      <td>53</td>\n",
       "      <td>168</td>\n",
       "      <td>17</td>\n",
       "      <td>6</td>\n",
       "      <td>150</td>\n",
       "    </tr>\n",
       "    <tr>\n",
       "      <th>School</th>\n",
       "      <td>7</td>\n",
       "      <td>9</td>\n",
       "      <td>60</td>\n",
       "      <td>2</td>\n",
       "      <td>1</td>\n",
       "    </tr>\n",
       "    <tr>\n",
       "      <th>Temporarily not working</th>\n",
       "      <td>9</td>\n",
       "      <td>23</td>\n",
       "      <td>11</td>\n",
       "      <td>1</td>\n",
       "      <td>2</td>\n",
       "    </tr>\n",
       "    <tr>\n",
       "      <th>Unemployed, laid off</th>\n",
       "      <td>10</td>\n",
       "      <td>13</td>\n",
       "      <td>32</td>\n",
       "      <td>0</td>\n",
       "      <td>3</td>\n",
       "    </tr>\n",
       "    <tr>\n",
       "      <th>Working full time</th>\n",
       "      <td>295</td>\n",
       "      <td>778</td>\n",
       "      <td>392</td>\n",
       "      <td>58</td>\n",
       "      <td>44</td>\n",
       "    </tr>\n",
       "    <tr>\n",
       "      <th>Working part-time</th>\n",
       "      <td>35</td>\n",
       "      <td>138</td>\n",
       "      <td>102</td>\n",
       "      <td>9</td>\n",
       "      <td>20</td>\n",
       "    </tr>\n",
       "  </tbody>\n",
       "</table>\n",
       "</div>"
      ],
      "text/plain": [
       "marital                  Divorced  Married  Never married  Separated  Widowed\n",
       "wrkstat                                                                      \n",
       "Keeping house                  25      200             35         13       55\n",
       "Other                          12       16             14          4        8\n",
       "Retired                        53      168             17          6      150\n",
       "School                          7        9             60          2        1\n",
       "Temporarily not working         9       23             11          1        2\n",
       "Unemployed, laid off           10       13             32          0        3\n",
       "Working full time             295      778            392         58       44\n",
       "Working part-time              35      138            102          9       20"
      ]
     },
     "execution_count": 60,
     "metadata": {},
     "output_type": "execute_result"
    }
   ],
   "source": [
    "work_marriage"
   ]
  },
  {
   "cell_type": "code",
   "execution_count": 61,
   "metadata": {},
   "outputs": [
    {
     "name": "stdout",
     "output_type": "stream",
     "text": [
      "P value 1.4875268409067568e-135\n"
     ]
    }
   ],
   "source": [
    "# Chi Sq contigency test\n",
    "\n",
    "# Ho : Work status and Maritial status are indipdent\n",
    "\n",
    "# Ha : Work status and Maritial status are associated\n",
    "\n",
    "# CI =95%, pvalue: 0.05\n",
    "\n",
    "# perform the test\n",
    "\n",
    "stat, p_customer, dof, expected=stats.chi2_contingency(work_marriage)\n",
    "print(\"P value\",p_customer)"
   ]
  },
  {
   "cell_type": "code",
   "execution_count": 62,
   "metadata": {},
   "outputs": [
    {
     "name": "stdout",
     "output_type": "stream",
     "text": [
      "Business Conclusion:\n",
      "\tH0 rejected\n",
      "\tWork status and Maritial status are associated\n"
     ]
    }
   ],
   "source": [
    "if p2 < 0.05:\n",
    "    print(\"Business Conclusion:\\n\\tH0 rejected\\n\\tWork status and Maritial status are associated\") \n",
    "    \n",
    "else:\n",
    "     print(\"Business Conclusion:\\n\\tH0 NOT rejected\\n\\tWork status and Maritial status are indipdent\")"
   ]
  },
  {
   "cell_type": "markdown",
   "metadata": {},
   "source": [
    "##### Do you think educational qualification is somehow controlling the marital status?"
   ]
  },
  {
   "cell_type": "code",
   "execution_count": 63,
   "metadata": {},
   "outputs": [],
   "source": [
    "cd_2=customer_data[[\"educ\",\"marital\"]]"
   ]
  },
  {
   "cell_type": "code",
   "execution_count": 64,
   "metadata": {},
   "outputs": [
    {
     "data": {
      "text/html": [
       "<div>\n",
       "<style scoped>\n",
       "    .dataframe tbody tr th:only-of-type {\n",
       "        vertical-align: middle;\n",
       "    }\n",
       "\n",
       "    .dataframe tbody tr th {\n",
       "        vertical-align: top;\n",
       "    }\n",
       "\n",
       "    .dataframe thead th {\n",
       "        text-align: right;\n",
       "    }\n",
       "</style>\n",
       "<table border=\"1\" class=\"dataframe\">\n",
       "  <thead>\n",
       "    <tr style=\"text-align: right;\">\n",
       "      <th></th>\n",
       "      <th>educ</th>\n",
       "      <th>marital</th>\n",
       "    </tr>\n",
       "  </thead>\n",
       "  <tbody>\n",
       "    <tr>\n",
       "      <th>0</th>\n",
       "      <td>12.0</td>\n",
       "      <td>Divorced</td>\n",
       "    </tr>\n",
       "    <tr>\n",
       "      <th>1</th>\n",
       "      <td>17.0</td>\n",
       "      <td>Never married</td>\n",
       "    </tr>\n",
       "    <tr>\n",
       "      <th>2</th>\n",
       "      <td>12.0</td>\n",
       "      <td>Married</td>\n",
       "    </tr>\n",
       "    <tr>\n",
       "      <th>3</th>\n",
       "      <td>13.0</td>\n",
       "      <td>Never married</td>\n",
       "    </tr>\n",
       "    <tr>\n",
       "      <th>4</th>\n",
       "      <td>16.0</td>\n",
       "      <td>Never married</td>\n",
       "    </tr>\n",
       "    <tr>\n",
       "      <th>...</th>\n",
       "      <td>...</td>\n",
       "      <td>...</td>\n",
       "    </tr>\n",
       "    <tr>\n",
       "      <th>2827</th>\n",
       "      <td>14.0</td>\n",
       "      <td>Married</td>\n",
       "    </tr>\n",
       "    <tr>\n",
       "      <th>2828</th>\n",
       "      <td>12.0</td>\n",
       "      <td>Divorced</td>\n",
       "    </tr>\n",
       "    <tr>\n",
       "      <th>2829</th>\n",
       "      <td>6.0</td>\n",
       "      <td>Married</td>\n",
       "    </tr>\n",
       "    <tr>\n",
       "      <th>2830</th>\n",
       "      <td>12.0</td>\n",
       "      <td>Never married</td>\n",
       "    </tr>\n",
       "    <tr>\n",
       "      <th>2831</th>\n",
       "      <td>10.0</td>\n",
       "      <td>Never married</td>\n",
       "    </tr>\n",
       "  </tbody>\n",
       "</table>\n",
       "<p>2832 rows × 2 columns</p>\n",
       "</div>"
      ],
      "text/plain": [
       "      educ        marital\n",
       "0     12.0       Divorced\n",
       "1     17.0  Never married\n",
       "2     12.0        Married\n",
       "3     13.0  Never married\n",
       "4     16.0  Never married\n",
       "...    ...            ...\n",
       "2827  14.0        Married\n",
       "2828  12.0       Divorced\n",
       "2829   6.0        Married\n",
       "2830  12.0  Never married\n",
       "2831  10.0  Never married\n",
       "\n",
       "[2832 rows x 2 columns]"
      ]
     },
     "execution_count": 64,
     "metadata": {},
     "output_type": "execute_result"
    }
   ],
   "source": [
    "cd_2"
   ]
  },
  {
   "cell_type": "code",
   "execution_count": 65,
   "metadata": {},
   "outputs": [],
   "source": [
    "edu_marriage=pd.crosstab(cd_2.educ,cd_2.marital)"
   ]
  },
  {
   "cell_type": "code",
   "execution_count": 66,
   "metadata": {},
   "outputs": [
    {
     "data": {
      "text/html": [
       "<div>\n",
       "<style scoped>\n",
       "    .dataframe tbody tr th:only-of-type {\n",
       "        vertical-align: middle;\n",
       "    }\n",
       "\n",
       "    .dataframe tbody tr th {\n",
       "        vertical-align: top;\n",
       "    }\n",
       "\n",
       "    .dataframe thead th {\n",
       "        text-align: right;\n",
       "    }\n",
       "</style>\n",
       "<table border=\"1\" class=\"dataframe\">\n",
       "  <thead>\n",
       "    <tr style=\"text-align: right;\">\n",
       "      <th>marital</th>\n",
       "      <th>Divorced</th>\n",
       "      <th>Married</th>\n",
       "      <th>Never married</th>\n",
       "      <th>Separated</th>\n",
       "      <th>Widowed</th>\n",
       "    </tr>\n",
       "    <tr>\n",
       "      <th>educ</th>\n",
       "      <th></th>\n",
       "      <th></th>\n",
       "      <th></th>\n",
       "      <th></th>\n",
       "      <th></th>\n",
       "    </tr>\n",
       "  </thead>\n",
       "  <tbody>\n",
       "    <tr>\n",
       "      <th>0.0</th>\n",
       "      <td>0</td>\n",
       "      <td>1</td>\n",
       "      <td>1</td>\n",
       "      <td>0</td>\n",
       "      <td>0</td>\n",
       "    </tr>\n",
       "    <tr>\n",
       "      <th>2.0</th>\n",
       "      <td>0</td>\n",
       "      <td>1</td>\n",
       "      <td>1</td>\n",
       "      <td>0</td>\n",
       "      <td>3</td>\n",
       "    </tr>\n",
       "    <tr>\n",
       "      <th>3.0</th>\n",
       "      <td>2</td>\n",
       "      <td>3</td>\n",
       "      <td>2</td>\n",
       "      <td>1</td>\n",
       "      <td>2</td>\n",
       "    </tr>\n",
       "    <tr>\n",
       "      <th>4.0</th>\n",
       "      <td>2</td>\n",
       "      <td>2</td>\n",
       "      <td>1</td>\n",
       "      <td>0</td>\n",
       "      <td>4</td>\n",
       "    </tr>\n",
       "    <tr>\n",
       "      <th>5.0</th>\n",
       "      <td>2</td>\n",
       "      <td>3</td>\n",
       "      <td>0</td>\n",
       "      <td>0</td>\n",
       "      <td>3</td>\n",
       "    </tr>\n",
       "    <tr>\n",
       "      <th>6.0</th>\n",
       "      <td>2</td>\n",
       "      <td>12</td>\n",
       "      <td>2</td>\n",
       "      <td>1</td>\n",
       "      <td>6</td>\n",
       "    </tr>\n",
       "    <tr>\n",
       "      <th>7.0</th>\n",
       "      <td>6</td>\n",
       "      <td>11</td>\n",
       "      <td>0</td>\n",
       "      <td>0</td>\n",
       "      <td>4</td>\n",
       "    </tr>\n",
       "    <tr>\n",
       "      <th>8.0</th>\n",
       "      <td>9</td>\n",
       "      <td>36</td>\n",
       "      <td>8</td>\n",
       "      <td>2</td>\n",
       "      <td>27</td>\n",
       "    </tr>\n",
       "    <tr>\n",
       "      <th>9.0</th>\n",
       "      <td>18</td>\n",
       "      <td>28</td>\n",
       "      <td>9</td>\n",
       "      <td>4</td>\n",
       "      <td>16</td>\n",
       "    </tr>\n",
       "    <tr>\n",
       "      <th>10.0</th>\n",
       "      <td>26</td>\n",
       "      <td>48</td>\n",
       "      <td>21</td>\n",
       "      <td>3</td>\n",
       "      <td>15</td>\n",
       "    </tr>\n",
       "    <tr>\n",
       "      <th>11.0</th>\n",
       "      <td>25</td>\n",
       "      <td>50</td>\n",
       "      <td>40</td>\n",
       "      <td>6</td>\n",
       "      <td>17</td>\n",
       "    </tr>\n",
       "    <tr>\n",
       "      <th>12.0</th>\n",
       "      <td>125</td>\n",
       "      <td>415</td>\n",
       "      <td>180</td>\n",
       "      <td>33</td>\n",
       "      <td>98</td>\n",
       "    </tr>\n",
       "    <tr>\n",
       "      <th>13.0</th>\n",
       "      <td>48</td>\n",
       "      <td>118</td>\n",
       "      <td>71</td>\n",
       "      <td>16</td>\n",
       "      <td>17</td>\n",
       "    </tr>\n",
       "    <tr>\n",
       "      <th>14.0</th>\n",
       "      <td>62</td>\n",
       "      <td>168</td>\n",
       "      <td>89</td>\n",
       "      <td>9</td>\n",
       "      <td>21</td>\n",
       "    </tr>\n",
       "    <tr>\n",
       "      <th>15.0</th>\n",
       "      <td>26</td>\n",
       "      <td>56</td>\n",
       "      <td>48</td>\n",
       "      <td>3</td>\n",
       "      <td>13</td>\n",
       "    </tr>\n",
       "    <tr>\n",
       "      <th>16.0</th>\n",
       "      <td>47</td>\n",
       "      <td>214</td>\n",
       "      <td>116</td>\n",
       "      <td>10</td>\n",
       "      <td>25</td>\n",
       "    </tr>\n",
       "    <tr>\n",
       "      <th>17.0</th>\n",
       "      <td>13</td>\n",
       "      <td>46</td>\n",
       "      <td>24</td>\n",
       "      <td>2</td>\n",
       "      <td>1</td>\n",
       "    </tr>\n",
       "    <tr>\n",
       "      <th>18.0</th>\n",
       "      <td>12</td>\n",
       "      <td>66</td>\n",
       "      <td>24</td>\n",
       "      <td>1</td>\n",
       "      <td>6</td>\n",
       "    </tr>\n",
       "    <tr>\n",
       "      <th>19.0</th>\n",
       "      <td>9</td>\n",
       "      <td>21</td>\n",
       "      <td>8</td>\n",
       "      <td>1</td>\n",
       "      <td>2</td>\n",
       "    </tr>\n",
       "    <tr>\n",
       "      <th>20.0</th>\n",
       "      <td>10</td>\n",
       "      <td>40</td>\n",
       "      <td>15</td>\n",
       "      <td>1</td>\n",
       "      <td>3</td>\n",
       "    </tr>\n",
       "  </tbody>\n",
       "</table>\n",
       "</div>"
      ],
      "text/plain": [
       "marital  Divorced  Married  Never married  Separated  Widowed\n",
       "educ                                                         \n",
       "0.0             0        1              1          0        0\n",
       "2.0             0        1              1          0        3\n",
       "3.0             2        3              2          1        2\n",
       "4.0             2        2              1          0        4\n",
       "5.0             2        3              0          0        3\n",
       "6.0             2       12              2          1        6\n",
       "7.0             6       11              0          0        4\n",
       "8.0             9       36              8          2       27\n",
       "9.0            18       28              9          4       16\n",
       "10.0           26       48             21          3       15\n",
       "11.0           25       50             40          6       17\n",
       "12.0          125      415            180         33       98\n",
       "13.0           48      118             71         16       17\n",
       "14.0           62      168             89          9       21\n",
       "15.0           26       56             48          3       13\n",
       "16.0           47      214            116         10       25\n",
       "17.0           13       46             24          2        1\n",
       "18.0           12       66             24          1        6\n",
       "19.0            9       21              8          1        2\n",
       "20.0           10       40             15          1        3"
      ]
     },
     "execution_count": 66,
     "metadata": {},
     "output_type": "execute_result"
    }
   ],
   "source": [
    "edu_marriage"
   ]
  },
  {
   "cell_type": "code",
   "execution_count": 67,
   "metadata": {},
   "outputs": [
    {
     "name": "stdout",
     "output_type": "stream",
     "text": [
      "P value 1.4875268409067568e-135\n"
     ]
    }
   ],
   "source": [
    "# Chi Sq contigency test\n",
    "\n",
    "# Ho : Edu status and Maritial status are indipedent\n",
    "\n",
    "# Ha : Edu status and Maritial status are associated\n",
    "\n",
    "# CI =95%, pvalue: 0.05\n",
    "\n",
    "# perform the test\n",
    "\n",
    "stat2, p_cd2, dof2, expected2=stats.chi2_contingency(work_marriage)\n",
    "print(\"P value\",p_cd2)"
   ]
  },
  {
   "cell_type": "code",
   "execution_count": 68,
   "metadata": {},
   "outputs": [
    {
     "name": "stdout",
     "output_type": "stream",
     "text": [
      "Business Conclusion:\n",
      "\tH0 rejected\n",
      "\tEdu status and Maritial status are associated\n"
     ]
    }
   ],
   "source": [
    "if p2 < 0.05:\n",
    "    print(\"Business Conclusion:\\n\\tH0 rejected\\n\\tEdu status and Maritial status are associated\") \n",
    "    \n",
    "else:\n",
    "     print(\"Business Conclusion:\\n\\tH0 NOT rejected\\n\\tEdu status and Maritial status are indipdent\")"
   ]
  },
  {
   "cell_type": "markdown",
   "metadata": {},
   "source": [
    "##### Is happiness is driven by earnings or marital status"
   ]
  },
  {
   "cell_type": "code",
   "execution_count": 69,
   "metadata": {},
   "outputs": [],
   "source": [
    "cd_3=customer_data[[\"happy\",\"income\",\"marital\"]]"
   ]
  },
  {
   "cell_type": "code",
   "execution_count": 70,
   "metadata": {},
   "outputs": [
    {
     "name": "stdout",
     "output_type": "stream",
     "text": [
      "<class 'pandas.core.frame.DataFrame'>\n",
      "RangeIndex: 2832 entries, 0 to 2831\n",
      "Data columns (total 3 columns):\n",
      " #   Column   Non-Null Count  Dtype \n",
      "---  ------   --------------  ----- \n",
      " 0   happy    2806 non-null   object\n",
      " 1   income   2503 non-null   object\n",
      " 2   marital  2831 non-null   object\n",
      "dtypes: object(3)\n",
      "memory usage: 66.5+ KB\n"
     ]
    }
   ],
   "source": [
    "cd_3.info()"
   ]
  },
  {
   "cell_type": "code",
   "execution_count": 71,
   "metadata": {},
   "outputs": [],
   "source": [
    "happy_income=pd.crosstab(cd_3.happy,cd_3.income)"
   ]
  },
  {
   "cell_type": "code",
   "execution_count": 72,
   "metadata": {},
   "outputs": [
    {
     "data": {
      "text/html": [
       "<div>\n",
       "<style scoped>\n",
       "    .dataframe tbody tr th:only-of-type {\n",
       "        vertical-align: middle;\n",
       "    }\n",
       "\n",
       "    .dataframe tbody tr th {\n",
       "        vertical-align: top;\n",
       "    }\n",
       "\n",
       "    .dataframe thead th {\n",
       "        text-align: right;\n",
       "    }\n",
       "</style>\n",
       "<table border=\"1\" class=\"dataframe\">\n",
       "  <thead>\n",
       "    <tr style=\"text-align: right;\">\n",
       "      <th>income</th>\n",
       "      <th>$1000 TO 2999</th>\n",
       "      <th>$10000 - 14999</th>\n",
       "      <th>$15000 - 19999</th>\n",
       "      <th>$20000 - 24999</th>\n",
       "      <th>$25000 or more</th>\n",
       "      <th>$3000 TO 3999</th>\n",
       "      <th>$4000 TO 4999</th>\n",
       "      <th>$5000 TO 5999</th>\n",
       "      <th>$6000 TO 6999</th>\n",
       "      <th>$7000 TO 7999</th>\n",
       "      <th>$8000 TO 9999</th>\n",
       "      <th>LT $1000</th>\n",
       "    </tr>\n",
       "    <tr>\n",
       "      <th>happy</th>\n",
       "      <th></th>\n",
       "      <th></th>\n",
       "      <th></th>\n",
       "      <th></th>\n",
       "      <th></th>\n",
       "      <th></th>\n",
       "      <th></th>\n",
       "      <th></th>\n",
       "      <th></th>\n",
       "      <th></th>\n",
       "      <th></th>\n",
       "      <th></th>\n",
       "    </tr>\n",
       "  </thead>\n",
       "  <tbody>\n",
       "    <tr>\n",
       "      <th>Not too happy</th>\n",
       "      <td>7</td>\n",
       "      <td>39</td>\n",
       "      <td>33</td>\n",
       "      <td>40</td>\n",
       "      <td>113</td>\n",
       "      <td>9</td>\n",
       "      <td>9</td>\n",
       "      <td>6</td>\n",
       "      <td>14</td>\n",
       "      <td>12</td>\n",
       "      <td>9</td>\n",
       "      <td>11</td>\n",
       "    </tr>\n",
       "    <tr>\n",
       "      <th>Pretty happy</th>\n",
       "      <td>20</td>\n",
       "      <td>107</td>\n",
       "      <td>119</td>\n",
       "      <td>155</td>\n",
       "      <td>888</td>\n",
       "      <td>11</td>\n",
       "      <td>13</td>\n",
       "      <td>18</td>\n",
       "      <td>13</td>\n",
       "      <td>21</td>\n",
       "      <td>30</td>\n",
       "      <td>13</td>\n",
       "    </tr>\n",
       "    <tr>\n",
       "      <th>Very happy</th>\n",
       "      <td>5</td>\n",
       "      <td>44</td>\n",
       "      <td>26</td>\n",
       "      <td>50</td>\n",
       "      <td>571</td>\n",
       "      <td>4</td>\n",
       "      <td>10</td>\n",
       "      <td>11</td>\n",
       "      <td>6</td>\n",
       "      <td>14</td>\n",
       "      <td>19</td>\n",
       "      <td>11</td>\n",
       "    </tr>\n",
       "  </tbody>\n",
       "</table>\n",
       "</div>"
      ],
      "text/plain": [
       "income         $1000 TO 2999  $10000 - 14999  $15000 - 19999  $20000 - 24999  \\\n",
       "happy                                                                          \n",
       "Not too happy              7              39              33              40   \n",
       "Pretty happy              20             107             119             155   \n",
       "Very happy                 5              44              26              50   \n",
       "\n",
       "income         $25000 or more  $3000 TO 3999  $4000 TO 4999  $5000 TO 5999  \\\n",
       "happy                                                                        \n",
       "Not too happy             113              9              9              6   \n",
       "Pretty happy              888             11             13             18   \n",
       "Very happy                571              4             10             11   \n",
       "\n",
       "income         $6000 TO 6999  $7000 TO 7999  $8000 TO 9999  LT $1000  \n",
       "happy                                                                 \n",
       "Not too happy             14             12              9        11  \n",
       "Pretty happy              13             21             30        13  \n",
       "Very happy                 6             14             19        11  "
      ]
     },
     "execution_count": 72,
     "metadata": {},
     "output_type": "execute_result"
    }
   ],
   "source": [
    "happy_income"
   ]
  },
  {
   "cell_type": "code",
   "execution_count": 73,
   "metadata": {},
   "outputs": [
    {
     "name": "stdout",
     "output_type": "stream",
     "text": [
      "P value 1.4107677273473057e-26\n"
     ]
    }
   ],
   "source": [
    "# Chi Sq contigency test\n",
    "\n",
    "# Ho : Happyness and Income status are indipedent\n",
    "\n",
    "# Ha : Happyness status and Income status are associated\n",
    "\n",
    "# CI =95%, pvalue: 0.05\n",
    "\n",
    "# perform the test\n",
    "\n",
    "stat3, p_cd3, dof3, expected3=stats.chi2_contingency(happy_income)\n",
    "print(\"P value\",p_cd3)"
   ]
  },
  {
   "cell_type": "code",
   "execution_count": 74,
   "metadata": {},
   "outputs": [
    {
     "name": "stdout",
     "output_type": "stream",
     "text": [
      "Business Conclusion:\n",
      "\tH0 rejected\n",
      "\t Hapiness status and Income status are associated\n"
     ]
    }
   ],
   "source": [
    "if p2 < 0.05:\n",
    "    print(\"Business Conclusion:\\n\\tH0 rejected\\n\\t Hapiness status and Income status are associated\") \n",
    "    \n",
    "else:\n",
    "     print(\"Business Conclusion:\\n\\tH0 NOT rejected\\n\\tHappyness status and Income status are associated\")"
   ]
  },
  {
   "cell_type": "code",
   "execution_count": 75,
   "metadata": {},
   "outputs": [],
   "source": [
    "happy_marriage=pd.crosstab(cd_3.happy,cd_3.marital)"
   ]
  },
  {
   "cell_type": "code",
   "execution_count": 76,
   "metadata": {},
   "outputs": [
    {
     "data": {
      "text/html": [
       "<div>\n",
       "<style scoped>\n",
       "    .dataframe tbody tr th:only-of-type {\n",
       "        vertical-align: middle;\n",
       "    }\n",
       "\n",
       "    .dataframe tbody tr th {\n",
       "        vertical-align: top;\n",
       "    }\n",
       "\n",
       "    .dataframe thead th {\n",
       "        text-align: right;\n",
       "    }\n",
       "</style>\n",
       "<table border=\"1\" class=\"dataframe\">\n",
       "  <thead>\n",
       "    <tr style=\"text-align: right;\">\n",
       "      <th>marital</th>\n",
       "      <th>Divorced</th>\n",
       "      <th>Married</th>\n",
       "      <th>Never married</th>\n",
       "      <th>Separated</th>\n",
       "      <th>Widowed</th>\n",
       "    </tr>\n",
       "    <tr>\n",
       "      <th>happy</th>\n",
       "      <th></th>\n",
       "      <th></th>\n",
       "      <th></th>\n",
       "      <th></th>\n",
       "      <th></th>\n",
       "    </tr>\n",
       "  </thead>\n",
       "  <tbody>\n",
       "    <tr>\n",
       "      <th>Not too happy</th>\n",
       "      <td>72</td>\n",
       "      <td>71</td>\n",
       "      <td>108</td>\n",
       "      <td>30</td>\n",
       "      <td>59</td>\n",
       "    </tr>\n",
       "    <tr>\n",
       "      <th>Pretty happy</th>\n",
       "      <td>278</td>\n",
       "      <td>684</td>\n",
       "      <td>426</td>\n",
       "      <td>49</td>\n",
       "      <td>137</td>\n",
       "    </tr>\n",
       "    <tr>\n",
       "      <th>Very happy</th>\n",
       "      <td>93</td>\n",
       "      <td>582</td>\n",
       "      <td>120</td>\n",
       "      <td>13</td>\n",
       "      <td>83</td>\n",
       "    </tr>\n",
       "  </tbody>\n",
       "</table>\n",
       "</div>"
      ],
      "text/plain": [
       "marital        Divorced  Married  Never married  Separated  Widowed\n",
       "happy                                                              \n",
       "Not too happy        72       71            108         30       59\n",
       "Pretty happy        278      684            426         49      137\n",
       "Very happy           93      582            120         13       83"
      ]
     },
     "execution_count": 76,
     "metadata": {},
     "output_type": "execute_result"
    }
   ],
   "source": [
    "happy_marriage"
   ]
  },
  {
   "cell_type": "code",
   "execution_count": 77,
   "metadata": {},
   "outputs": [
    {
     "name": "stdout",
     "output_type": "stream",
     "text": [
      "P value 9.3147261197964e-52\n"
     ]
    }
   ],
   "source": [
    "# Chi Sq contigency test\n",
    "\n",
    "# Ho : Happyness and Maritial status are indipedent\n",
    "\n",
    "# Ha : Happyness status and Maritial status are associated\n",
    "\n",
    "# CI =95%, pvalue: 0.05\n",
    "\n",
    "# perform the test\n",
    "\n",
    "stat4, p_cd4, dof4, expected4=stats.chi2_contingency(happy_marriage)\n",
    "print(\"P value\",p_cd4)"
   ]
  },
  {
   "cell_type": "code",
   "execution_count": 78,
   "metadata": {},
   "outputs": [
    {
     "name": "stdout",
     "output_type": "stream",
     "text": [
      "Business Conclusion:\n",
      "\tH0 rejected\n",
      "\t Hapiness status and Income status are associated\n"
     ]
    }
   ],
   "source": [
    "if p2 < 0.05:\n",
    "    print(\"Business Conclusion:\\n\\tH0 rejected\\n\\t Hapiness status and Income status are associated\") \n",
    "    \n",
    "else:\n",
    "     print(\"Business Conclusion:\\n\\tH0 NOT rejected\\n\\tHappyness status and Income status are associated\")"
   ]
  },
  {
   "cell_type": "code",
   "execution_count": null,
   "metadata": {},
   "outputs": [],
   "source": []
  }
 ],
 "metadata": {
  "kernelspec": {
   "display_name": "Python 3",
   "language": "python",
   "name": "python3"
  },
  "language_info": {
   "codemirror_mode": {
    "name": "ipython",
    "version": 3
   },
   "file_extension": ".py",
   "mimetype": "text/x-python",
   "name": "python",
   "nbconvert_exporter": "python",
   "pygments_lexer": "ipython3",
   "version": "3.8.5"
  }
 },
 "nbformat": 4,
 "nbformat_minor": 4
}
